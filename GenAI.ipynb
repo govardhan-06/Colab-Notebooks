{
  "nbformat": 4,
  "nbformat_minor": 0,
  "metadata": {
    "colab": {
      "provenance": [],
      "authorship_tag": "ABX9TyNTMBn7yvyMcxT3bMpHWFK5",
      "include_colab_link": true
    },
    "kernelspec": {
      "name": "python3",
      "display_name": "Python 3"
    },
    "language_info": {
      "name": "python"
    }
  },
  "cells": [
    {
      "cell_type": "markdown",
      "metadata": {
        "id": "view-in-github",
        "colab_type": "text"
      },
      "source": [
        "<a href=\"https://colab.research.google.com/github/govardhan-06/GenAI-Notebooks/blob/main/GenAI.ipynb\" target=\"_parent\"><img src=\"https://colab.research.google.com/assets/colab-badge.svg\" alt=\"Open In Colab\"/></a>"
      ]
    },
    {
      "cell_type": "code",
      "execution_count": 1,
      "metadata": {
        "id": "yMDHu1bkPU69",
        "colab": {
          "base_uri": "https://localhost:8080/"
        },
        "outputId": "3dcb15d0-f70a-45d1-996c-eeb577ff583d"
      },
      "outputs": [
        {
          "output_type": "stream",
          "name": "stdout",
          "text": [
            "Requirement already satisfied: nltk in /usr/local/lib/python3.10/dist-packages (3.8.1)\n",
            "Requirement already satisfied: click in /usr/local/lib/python3.10/dist-packages (from nltk) (8.1.7)\n",
            "Requirement already satisfied: joblib in /usr/local/lib/python3.10/dist-packages (from nltk) (1.4.0)\n",
            "Requirement already satisfied: regex>=2021.8.3 in /usr/local/lib/python3.10/dist-packages (from nltk) (2023.12.25)\n",
            "Requirement already satisfied: tqdm in /usr/local/lib/python3.10/dist-packages (from nltk) (4.66.2)\n"
          ]
        }
      ],
      "source": [
        "!pip install nltk"
      ]
    },
    {
      "cell_type": "code",
      "source": [
        "paragraph='''Instagram[a] is a photo and video sharing social networking service owned by Meta Platforms. It allows users to upload media that can be edited with filters, be organized by hashtags, and be associated with a location via geographical tagging. Posts can be shared publicly or with preapproved followers. Users can browse other users' content by tags and locations, view trending content, like photos, and follow other users to add their content to a personal feed.[8] A Meta-operated image-centric social media platform, it is available on iOS, Android, Windows 10, and the web. Users can take photos and edit them using built-in filters and other tools, then share them on other social media platforms like Facebook. It supports 32 languages including English, Spanish, French, Korean, and Japanese.[9]\n",
        "\n",
        "Instagram was originally distinguished by allowing content to be framed only in a square (1:1) aspect ratio of 640 pixels to match the display width of the iPhone at the time. In 2015, this restriction was eased with an increase to 1080 pixels. It also added messaging features, the ability to include multiple images or videos in a single post, and a Stories feature—similar to its main competitor Snapchat—which allowed users to post their content to a sequential feed, with each post accessible to others for 24 hours. As of January 2019, Stories is used by 500 million people daily.[8]\n",
        "\n",
        "Originally launched for iOS in October 2010 by Kevin Systrom and Mike Krieger, Instagram rapidly gained popularity, with one million registered users in two months, 10 million in a year, and 1 billion by June 2018. In April 2012, Facebook Inc. acquired the service for approximately US$1 billion in cash and stock. The Android version of Instagram was released in April 2012, followed by a feature-limited desktop interface in November 2012, a Fire OS app in June 2014, and an app for Windows 10 in October 2016. As of October 2015, over 40 billion photos had been uploaded. Although often admired for its success and influence, Instagram has also been criticized for negatively affecting teens' mental health, its policy and interface changes, its alleged censorship, and illegal and inappropriate content uploaded by users.'''"
      ],
      "metadata": {
        "id": "AWUEdgI7Pr0b"
      },
      "execution_count": 2,
      "outputs": []
    },
    {
      "cell_type": "code",
      "source": [
        "paragraph"
      ],
      "metadata": {
        "id": "MM1si-1yPxOM",
        "colab": {
          "base_uri": "https://localhost:8080/",
          "height": 123
        },
        "outputId": "c64e3cbb-c97f-4ad2-da6f-4c9474ac0c52"
      },
      "execution_count": 3,
      "outputs": [
        {
          "output_type": "execute_result",
          "data": {
            "text/plain": [
              "\"Instagram[a] is a photo and video sharing social networking service owned by Meta Platforms. It allows users to upload media that can be edited with filters, be organized by hashtags, and be associated with a location via geographical tagging. Posts can be shared publicly or with preapproved followers. Users can browse other users' content by tags and locations, view trending content, like photos, and follow other users to add their content to a personal feed.[8] A Meta-operated image-centric social media platform, it is available on iOS, Android, Windows 10, and the web. Users can take photos and edit them using built-in filters and other tools, then share them on other social media platforms like Facebook. It supports 32 languages including English, Spanish, French, Korean, and Japanese.[9]\\n\\nInstagram was originally distinguished by allowing content to be framed only in a square (1:1) aspect ratio of 640 pixels to match the display width of the iPhone at the time. In 2015, this restriction was eased with an increase to 1080 pixels. It also added messaging features, the ability to include multiple images or videos in a single post, and a Stories feature—similar to its main competitor Snapchat—which allowed users to post their content to a sequential feed, with each post accessible to others for 24 hours. As of January 2019, Stories is used by 500 million people daily.[8]\\n\\nOriginally launched for iOS in October 2010 by Kevin Systrom and Mike Krieger, Instagram rapidly gained popularity, with one million registered users in two months, 10 million in a year, and 1 billion by June 2018. In April 2012, Facebook Inc. acquired the service for approximately US$1 billion in cash and stock. The Android version of Instagram was released in April 2012, followed by a feature-limited desktop interface in November 2012, a Fire OS app in June 2014, and an app for Windows 10 in October 2016. As of October 2015, over 40 billion photos had been uploaded. Although often admired for its success and influence, Instagram has also been criticized for negatively affecting teens' mental health, its policy and interface changes, its alleged censorship, and illegal and inappropriate content uploaded by users.\""
            ],
            "application/vnd.google.colaboratory.intrinsic+json": {
              "type": "string"
            }
          },
          "metadata": {},
          "execution_count": 3
        }
      ]
    },
    {
      "cell_type": "code",
      "source": [
        "import nltk\n",
        "from nltk.stem import PorterStemmer\n",
        "from nltk.corpus import stopwords"
      ],
      "metadata": {
        "id": "5St_vUCFP0RU"
      },
      "execution_count": 4,
      "outputs": []
    },
    {
      "cell_type": "code",
      "source": [
        "#Tokenization\n",
        "nltk.download('punkt') #punkt is a package in nltk\n",
        "sentences=nltk.sent_tokenize(paragraph)\n",
        "#Coversion of paragrapg to sentences"
      ],
      "metadata": {
        "colab": {
          "base_uri": "https://localhost:8080/"
        },
        "id": "V1zpQblsQXSs",
        "outputId": "c438f7e2-22a3-49a4-dc8a-fdd021137e8e"
      },
      "execution_count": 5,
      "outputs": [
        {
          "output_type": "stream",
          "name": "stderr",
          "text": [
            "[nltk_data] Downloading package punkt to /root/nltk_data...\n",
            "[nltk_data]   Unzipping tokenizers/punkt.zip.\n"
          ]
        }
      ]
    },
    {
      "cell_type": "code",
      "source": [
        "sentences[0]"
      ],
      "metadata": {
        "id": "8vzVhByfRALQ",
        "colab": {
          "base_uri": "https://localhost:8080/",
          "height": 36
        },
        "outputId": "846a821d-d819-48f3-b0b8-8a7885f78173"
      },
      "execution_count": 6,
      "outputs": [
        {
          "output_type": "execute_result",
          "data": {
            "text/plain": [
              "'Instagram[a] is a photo and video sharing social networking service owned by Meta Platforms.'"
            ],
            "application/vnd.google.colaboratory.intrinsic+json": {
              "type": "string"
            }
          },
          "metadata": {},
          "execution_count": 6
        }
      ]
    },
    {
      "cell_type": "code",
      "source": [
        "stemmer=PorterStemmer()"
      ],
      "metadata": {
        "id": "5Z1_C74zRXtn"
      },
      "execution_count": 7,
      "outputs": []
    },
    {
      "cell_type": "code",
      "source": [
        "stemmer.stem(\"history\")"
      ],
      "metadata": {
        "id": "cDG1feeIRacn",
        "colab": {
          "base_uri": "https://localhost:8080/",
          "height": 36
        },
        "outputId": "c587da0d-9f85-4eca-f17a-9dd08cb32b47"
      },
      "execution_count": 8,
      "outputs": [
        {
          "output_type": "execute_result",
          "data": {
            "text/plain": [
              "'histori'"
            ],
            "application/vnd.google.colaboratory.intrinsic+json": {
              "type": "string"
            }
          },
          "metadata": {},
          "execution_count": 8
        }
      ]
    },
    {
      "cell_type": "code",
      "source": [
        "from nltk.stem import WordNetLemmatizer"
      ],
      "metadata": {
        "id": "0jrn0E8-RheR"
      },
      "execution_count": 9,
      "outputs": []
    },
    {
      "cell_type": "code",
      "source": [
        "lemmatizer=WordNetLemmatizer()\n",
        "nltk.download('wordnet')"
      ],
      "metadata": {
        "id": "P_t8NKPYRrah",
        "colab": {
          "base_uri": "https://localhost:8080/"
        },
        "outputId": "fc670e8c-1ba9-4f20-9f97-b8b1c724e530"
      },
      "execution_count": 10,
      "outputs": [
        {
          "output_type": "stream",
          "name": "stderr",
          "text": [
            "[nltk_data] Downloading package wordnet to /root/nltk_data...\n"
          ]
        },
        {
          "output_type": "execute_result",
          "data": {
            "text/plain": [
              "True"
            ]
          },
          "metadata": {},
          "execution_count": 10
        }
      ]
    },
    {
      "cell_type": "code",
      "source": [
        "lemmatizer.lemmatize(\"history\")"
      ],
      "metadata": {
        "id": "vJZHlmpHR79n",
        "colab": {
          "base_uri": "https://localhost:8080/",
          "height": 36
        },
        "outputId": "e59e9b75-e345-492e-efaf-7cc0409dcfcf"
      },
      "execution_count": 11,
      "outputs": [
        {
          "output_type": "execute_result",
          "data": {
            "text/plain": [
              "'history'"
            ],
            "application/vnd.google.colaboratory.intrinsic+json": {
              "type": "string"
            }
          },
          "metadata": {},
          "execution_count": 11
        }
      ]
    },
    {
      "cell_type": "code",
      "source": [
        "import re"
      ],
      "metadata": {
        "id": "BB9exvIRS1eu"
      },
      "execution_count": 12,
      "outputs": []
    },
    {
      "cell_type": "code",
      "source": [
        "#pre-processing the text by removing unanted characters and changing the case\n",
        "corpus=[]\n",
        "for i in range(len(sentences)):\n",
        "  x=re.sub('[^a-zA-Z]',' ',sentences[i])\n",
        "  corpus.append(x.lower())"
      ],
      "metadata": {
        "id": "JjaWmVpDS7F2"
      },
      "execution_count": 13,
      "outputs": []
    },
    {
      "cell_type": "code",
      "source": [
        "corpus"
      ],
      "metadata": {
        "id": "-hTD68m1TcVO",
        "colab": {
          "base_uri": "https://localhost:8080/"
        },
        "outputId": "22a92dc3-139e-42f2-d7aa-ead3282901eb"
      },
      "execution_count": 25,
      "outputs": [
        {
          "output_type": "execute_result",
          "data": {
            "text/plain": [
              "['instagram a  is a photo and video sharing social networking service owned by meta platforms ',\n",
              " 'it allows users to upload media that can be edited with filters  be organized by hashtags  and be associated with a location via geographical tagging ',\n",
              " 'posts can be shared publicly or with preapproved followers ',\n",
              " 'users can browse other users  content by tags and locations  view trending content  like photos  and follow other users to add their content to a personal feed ',\n",
              " '    a meta operated image centric social media platform  it is available on ios  android  windows     and the web ',\n",
              " 'users can take photos and edit them using built in filters and other tools  then share them on other social media platforms like facebook ',\n",
              " 'it supports    languages including english  spanish  french  korean  and japanese ',\n",
              " '     instagram was originally distinguished by allowing content to be framed only in a square       aspect ratio of     pixels to match the display width of the iphone at the time ',\n",
              " 'in       this restriction was eased with an increase to      pixels ',\n",
              " 'it also added messaging features  the ability to include multiple images or videos in a single post  and a stories feature similar to its main competitor snapchat which allowed users to post their content to a sequential feed  with each post accessible to others for    hours ',\n",
              " 'as of january       stories is used by     million people daily ',\n",
              " '     originally launched for ios in october      by kevin systrom and mike krieger  instagram rapidly gained popularity  with one million registered users in two months     million in a year  and   billion by june      ',\n",
              " 'in april       facebook inc  acquired the service for approximately us   billion in cash and stock ',\n",
              " 'the android version of instagram was released in april       followed by a feature limited desktop interface in november       a fire os app in june       and an app for windows    in october      ',\n",
              " 'as of october       over    billion photos had been uploaded ',\n",
              " 'although often admired for its success and influence  instagram has also been criticized for negatively affecting teens  mental health  its policy and interface changes  its alleged censorship  and illegal and inappropriate content uploaded by users ']"
            ]
          },
          "metadata": {},
          "execution_count": 25
        }
      ]
    },
    {
      "cell_type": "code",
      "source": [
        "nltk.download('stopwords')\n",
        "stopwords.words(\"english\")"
      ],
      "metadata": {
        "id": "D6B2OkK_Vt7X"
      },
      "execution_count": null,
      "outputs": []
    },
    {
      "cell_type": "code",
      "source": [
        "#lemmatizer\n",
        "corpus_lem=[]\n",
        "for i in corpus:\n",
        "  words=nltk.word_tokenize(i)\n",
        "  for word in words:\n",
        "    if word not in set(stopwords.words(\"english\")):\n",
        "      x=(lemmatizer.lemmatize(word))\n",
        "      corpus_lem.append(x)"
      ],
      "metadata": {
        "id": "Im-EofqWUD7n"
      },
      "execution_count": 30,
      "outputs": []
    },
    {
      "cell_type": "code",
      "source": [
        "corpus_lem"
      ],
      "metadata": {
        "id": "Thqww7qHUmkV",
        "colab": {
          "base_uri": "https://localhost:8080/"
        },
        "outputId": "10352fd3-c7cc-4a8e-ba89-9f2ef2b74544"
      },
      "execution_count": 31,
      "outputs": [
        {
          "output_type": "execute_result",
          "data": {
            "text/plain": [
              "['instagram',\n",
              " 'photo',\n",
              " 'video',\n",
              " 'sharing',\n",
              " 'social',\n",
              " 'networking',\n",
              " 'service',\n",
              " 'owned',\n",
              " 'meta',\n",
              " 'platform',\n",
              " 'allows',\n",
              " 'user',\n",
              " 'upload',\n",
              " 'medium',\n",
              " 'edited',\n",
              " 'filter',\n",
              " 'organized',\n",
              " 'hashtags',\n",
              " 'associated',\n",
              " 'location',\n",
              " 'via',\n",
              " 'geographical',\n",
              " 'tagging',\n",
              " 'post',\n",
              " 'shared',\n",
              " 'publicly',\n",
              " 'preapproved',\n",
              " 'follower',\n",
              " 'user',\n",
              " 'browse',\n",
              " 'user',\n",
              " 'content',\n",
              " 'tag',\n",
              " 'location',\n",
              " 'view',\n",
              " 'trending',\n",
              " 'content',\n",
              " 'like',\n",
              " 'photo',\n",
              " 'follow',\n",
              " 'user',\n",
              " 'add',\n",
              " 'content',\n",
              " 'personal',\n",
              " 'feed',\n",
              " 'meta',\n",
              " 'operated',\n",
              " 'image',\n",
              " 'centric',\n",
              " 'social',\n",
              " 'medium',\n",
              " 'platform',\n",
              " 'available',\n",
              " 'io',\n",
              " 'android',\n",
              " 'window',\n",
              " 'web',\n",
              " 'user',\n",
              " 'take',\n",
              " 'photo',\n",
              " 'edit',\n",
              " 'using',\n",
              " 'built',\n",
              " 'filter',\n",
              " 'tool',\n",
              " 'share',\n",
              " 'social',\n",
              " 'medium',\n",
              " 'platform',\n",
              " 'like',\n",
              " 'facebook',\n",
              " 'support',\n",
              " 'language',\n",
              " 'including',\n",
              " 'english',\n",
              " 'spanish',\n",
              " 'french',\n",
              " 'korean',\n",
              " 'japanese',\n",
              " 'instagram',\n",
              " 'originally',\n",
              " 'distinguished',\n",
              " 'allowing',\n",
              " 'content',\n",
              " 'framed',\n",
              " 'square',\n",
              " 'aspect',\n",
              " 'ratio',\n",
              " 'pixel',\n",
              " 'match',\n",
              " 'display',\n",
              " 'width',\n",
              " 'iphone',\n",
              " 'time',\n",
              " 'restriction',\n",
              " 'eased',\n",
              " 'increase',\n",
              " 'pixel',\n",
              " 'also',\n",
              " 'added',\n",
              " 'messaging',\n",
              " 'feature',\n",
              " 'ability',\n",
              " 'include',\n",
              " 'multiple',\n",
              " 'image',\n",
              " 'video',\n",
              " 'single',\n",
              " 'post',\n",
              " 'story',\n",
              " 'feature',\n",
              " 'similar',\n",
              " 'main',\n",
              " 'competitor',\n",
              " 'snapchat',\n",
              " 'allowed',\n",
              " 'user',\n",
              " 'post',\n",
              " 'content',\n",
              " 'sequential',\n",
              " 'feed',\n",
              " 'post',\n",
              " 'accessible',\n",
              " 'others',\n",
              " 'hour',\n",
              " 'january',\n",
              " 'story',\n",
              " 'used',\n",
              " 'million',\n",
              " 'people',\n",
              " 'daily',\n",
              " 'originally',\n",
              " 'launched',\n",
              " 'io',\n",
              " 'october',\n",
              " 'kevin',\n",
              " 'systrom',\n",
              " 'mike',\n",
              " 'krieger',\n",
              " 'instagram',\n",
              " 'rapidly',\n",
              " 'gained',\n",
              " 'popularity',\n",
              " 'one',\n",
              " 'million',\n",
              " 'registered',\n",
              " 'user',\n",
              " 'two',\n",
              " 'month',\n",
              " 'million',\n",
              " 'year',\n",
              " 'billion',\n",
              " 'june',\n",
              " 'april',\n",
              " 'facebook',\n",
              " 'inc',\n",
              " 'acquired',\n",
              " 'service',\n",
              " 'approximately',\n",
              " 'u',\n",
              " 'billion',\n",
              " 'cash',\n",
              " 'stock',\n",
              " 'android',\n",
              " 'version',\n",
              " 'instagram',\n",
              " 'released',\n",
              " 'april',\n",
              " 'followed',\n",
              " 'feature',\n",
              " 'limited',\n",
              " 'desktop',\n",
              " 'interface',\n",
              " 'november',\n",
              " 'fire',\n",
              " 'o',\n",
              " 'app',\n",
              " 'june',\n",
              " 'app',\n",
              " 'window',\n",
              " 'october',\n",
              " 'october',\n",
              " 'billion',\n",
              " 'photo',\n",
              " 'uploaded',\n",
              " 'although',\n",
              " 'often',\n",
              " 'admired',\n",
              " 'success',\n",
              " 'influence',\n",
              " 'instagram',\n",
              " 'also',\n",
              " 'criticized',\n",
              " 'negatively',\n",
              " 'affecting',\n",
              " 'teen',\n",
              " 'mental',\n",
              " 'health',\n",
              " 'policy',\n",
              " 'interface',\n",
              " 'change',\n",
              " 'alleged',\n",
              " 'censorship',\n",
              " 'illegal',\n",
              " 'inappropriate',\n",
              " 'content',\n",
              " 'uploaded',\n",
              " 'user']"
            ]
          },
          "metadata": {},
          "execution_count": 31
        }
      ]
    },
    {
      "cell_type": "code",
      "source": [
        "from sklearn.feature_extraction.text import CountVectorizer\n",
        "cv=CountVectorizer(binary=True,ngram_range=(1,3)) #binary=True used for converting it to binary BOW"
      ],
      "metadata": {
        "id": "b-43FIOqYbKm"
      },
      "execution_count": 42,
      "outputs": []
    },
    {
      "cell_type": "code",
      "source": [
        "corpus"
      ],
      "metadata": {
        "id": "N0ArAJKjfr19"
      },
      "execution_count": null,
      "outputs": []
    },
    {
      "cell_type": "code",
      "source": [
        "X=cv.fit_transform(corpus)"
      ],
      "metadata": {
        "id": "fTPwtNbpY_DV"
      },
      "execution_count": 43,
      "outputs": []
    },
    {
      "cell_type": "code",
      "source": [
        "cv.vocabulary_  #returns the index of the unique words from the sentences"
      ],
      "metadata": {
        "id": "QK8Iub0TZU5m"
      },
      "execution_count": null,
      "outputs": []
    },
    {
      "cell_type": "code",
      "source": [
        "X[0].toarray() #Bag of words for the first sentence"
      ],
      "metadata": {
        "id": "xSGnewgYbZtF"
      },
      "execution_count": null,
      "outputs": []
    },
    {
      "cell_type": "code",
      "source": [
        "#TF-IDF\n",
        "from sklearn.feature_extraction.text import TfidfVectorizer\n",
        "tf=TfidfVectorizer(ngram_range=(3,3))\n",
        "X=tf.fit_transform(corpus)"
      ],
      "metadata": {
        "id": "Xq4OlK_rf6dc"
      },
      "execution_count": 53,
      "outputs": []
    },
    {
      "cell_type": "code",
      "source": [
        "corpus[0]"
      ],
      "metadata": {
        "id": "coOQFlXdg6Y5"
      },
      "execution_count": null,
      "outputs": []
    },
    {
      "cell_type": "code",
      "source": [
        "X[0].toarray()"
      ],
      "metadata": {
        "colab": {
          "base_uri": "https://localhost:8080/"
        },
        "id": "A8vFis1fg9t5",
        "outputId": "cea05c11-c078-4719-a14d-fe83ba72272b"
      },
      "execution_count": 55,
      "outputs": [
        {
          "output_type": "execute_result",
          "data": {
            "text/plain": [
              "array([[0.        , 0.        , 0.        , 0.        , 0.        ,\n",
              "        0.        , 0.        , 0.        , 0.        , 0.        ,\n",
              "        0.        , 0.        , 0.        , 0.        , 0.        ,\n",
              "        0.        , 0.        , 0.        , 0.        , 0.        ,\n",
              "        0.        , 0.        , 0.        , 0.        , 0.        ,\n",
              "        0.        , 0.        , 0.        , 0.        , 0.        ,\n",
              "        0.30151134, 0.        , 0.        , 0.        , 0.        ,\n",
              "        0.        , 0.        , 0.        , 0.        , 0.        ,\n",
              "        0.        , 0.        , 0.        , 0.        , 0.        ,\n",
              "        0.        , 0.        , 0.        , 0.        , 0.        ,\n",
              "        0.        , 0.        , 0.        , 0.        , 0.        ,\n",
              "        0.        , 0.        , 0.        , 0.        , 0.30151134,\n",
              "        0.        , 0.        , 0.        , 0.        , 0.        ,\n",
              "        0.        , 0.        , 0.        , 0.        , 0.        ,\n",
              "        0.        , 0.        , 0.        , 0.        , 0.        ,\n",
              "        0.        , 0.        , 0.        , 0.        , 0.        ,\n",
              "        0.        , 0.        , 0.        , 0.        , 0.        ,\n",
              "        0.        , 0.        , 0.        , 0.        , 0.        ,\n",
              "        0.        , 0.        , 0.        , 0.        , 0.        ,\n",
              "        0.        , 0.        , 0.        , 0.        , 0.        ,\n",
              "        0.        , 0.        , 0.        , 0.        , 0.        ,\n",
              "        0.        , 0.        , 0.        , 0.        , 0.        ,\n",
              "        0.        , 0.        , 0.        , 0.        , 0.        ,\n",
              "        0.        , 0.        , 0.        , 0.        , 0.        ,\n",
              "        0.        , 0.        , 0.        , 0.        , 0.        ,\n",
              "        0.        , 0.        , 0.        , 0.        , 0.        ,\n",
              "        0.30151134, 0.        , 0.        , 0.        , 0.        ,\n",
              "        0.        , 0.        , 0.        , 0.        , 0.        ,\n",
              "        0.30151134, 0.        , 0.        , 0.        , 0.        ,\n",
              "        0.        , 0.        , 0.        , 0.        , 0.        ,\n",
              "        0.        , 0.        , 0.        , 0.        , 0.        ,\n",
              "        0.        , 0.        , 0.        , 0.        , 0.        ,\n",
              "        0.        , 0.        , 0.        , 0.        , 0.        ,\n",
              "        0.        , 0.        , 0.        , 0.        , 0.        ,\n",
              "        0.        , 0.        , 0.        , 0.        , 0.        ,\n",
              "        0.        , 0.30151134, 0.        , 0.        , 0.        ,\n",
              "        0.        , 0.        , 0.        , 0.        , 0.        ,\n",
              "        0.        , 0.        , 0.        , 0.        , 0.        ,\n",
              "        0.        , 0.        , 0.        , 0.        , 0.        ,\n",
              "        0.        , 0.        , 0.        , 0.        , 0.        ,\n",
              "        0.        , 0.        , 0.        , 0.30151134, 0.30151134,\n",
              "        0.        , 0.        , 0.        , 0.        , 0.        ,\n",
              "        0.        , 0.        , 0.        , 0.        , 0.        ,\n",
              "        0.        , 0.        , 0.        , 0.        , 0.        ,\n",
              "        0.        , 0.        , 0.        , 0.        , 0.        ,\n",
              "        0.30151134, 0.        , 0.        , 0.30151134, 0.        ,\n",
              "        0.        , 0.        , 0.        , 0.        , 0.30151134,\n",
              "        0.        , 0.        , 0.        , 0.        , 0.        ,\n",
              "        0.        , 0.        , 0.        , 0.        , 0.        ,\n",
              "        0.        , 0.        , 0.        , 0.        , 0.        ,\n",
              "        0.        , 0.        , 0.        , 0.        , 0.        ,\n",
              "        0.        , 0.        , 0.        , 0.        , 0.        ,\n",
              "        0.        , 0.        , 0.        , 0.        , 0.        ,\n",
              "        0.        , 0.        , 0.        , 0.        , 0.        ,\n",
              "        0.        , 0.        , 0.        , 0.        , 0.        ,\n",
              "        0.        , 0.        , 0.        , 0.        , 0.        ,\n",
              "        0.        , 0.        , 0.        , 0.30151134, 0.        ,\n",
              "        0.        , 0.        , 0.        , 0.        , 0.        ,\n",
              "        0.        , 0.        , 0.        , 0.        , 0.        ,\n",
              "        0.        , 0.        , 0.        , 0.        , 0.        ]])"
            ]
          },
          "metadata": {},
          "execution_count": 55
        }
      ]
    }
  ]
}