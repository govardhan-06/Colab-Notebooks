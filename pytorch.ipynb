{
  "nbformat": 4,
  "nbformat_minor": 0,
  "metadata": {
    "colab": {
      "provenance": [],
      "gpuType": "T4",
      "authorship_tag": "ABX9TyPTVfki51VwISvOdD2D4YQ6",
      "include_colab_link": true
    },
    "kernelspec": {
      "name": "python3",
      "display_name": "Python 3"
    },
    "language_info": {
      "name": "python"
    },
    "accelerator": "GPU"
  },
  "cells": [
    {
      "cell_type": "markdown",
      "metadata": {
        "id": "view-in-github",
        "colab_type": "text"
      },
      "source": [
        "<a href=\"https://colab.research.google.com/github/govardhan-06/practice-Notebooks/blob/main/pytorch.ipynb\" target=\"_parent\"><img src=\"https://colab.research.google.com/assets/colab-badge.svg\" alt=\"Open In Colab\"/></a>"
      ]
    },
    {
      "cell_type": "code",
      "execution_count": 1,
      "metadata": {
        "id": "foULhwKtj9ih"
      },
      "outputs": [],
      "source": [
        "import torch\n",
        "import numpy as np\n",
        "import pandas as pd\n",
        "import matplotlib.pyplot as plt"
      ]
    },
    {
      "cell_type": "markdown",
      "source": [
        "###Scalars, Vectors, Tensors and Matrix"
      ],
      "metadata": {
        "id": "ueZtt0H57BUA"
      }
    },
    {
      "cell_type": "code",
      "source": [
        "#scalar\n",
        "scalar=torch.tensor(7)\n",
        "scalar"
      ],
      "metadata": {
        "colab": {
          "base_uri": "https://localhost:8080/"
        },
        "id": "ZUqW2PvIl4wp",
        "outputId": "82efede2-b972-4d4f-9fcb-9b1a263ca46d"
      },
      "execution_count": 2,
      "outputs": [
        {
          "output_type": "execute_result",
          "data": {
            "text/plain": [
              "tensor(7)"
            ]
          },
          "metadata": {},
          "execution_count": 2
        }
      ]
    },
    {
      "cell_type": "code",
      "source": [
        "scalar.ndim"
      ],
      "metadata": {
        "colab": {
          "base_uri": "https://localhost:8080/"
        },
        "id": "OG2X56RQmVQB",
        "outputId": "b2afe767-4966-4637-d042-a5229a3851e0"
      },
      "execution_count": 3,
      "outputs": [
        {
          "output_type": "execute_result",
          "data": {
            "text/plain": [
              "0"
            ]
          },
          "metadata": {},
          "execution_count": 3
        }
      ]
    },
    {
      "cell_type": "code",
      "source": [
        "scalar.shape"
      ],
      "metadata": {
        "colab": {
          "base_uri": "https://localhost:8080/"
        },
        "id": "olbDjJWcmXjZ",
        "outputId": "fede169f-f6e2-44f3-b06f-13165bce7647"
      },
      "execution_count": 4,
      "outputs": [
        {
          "output_type": "execute_result",
          "data": {
            "text/plain": [
              "torch.Size([])"
            ]
          },
          "metadata": {},
          "execution_count": 4
        }
      ]
    },
    {
      "cell_type": "code",
      "source": [
        " #vector\n",
        " vector=torch.tensor([7,8])\n",
        " vector"
      ],
      "metadata": {
        "colab": {
          "base_uri": "https://localhost:8080/"
        },
        "id": "dU-4VNPBknpC",
        "outputId": "81e0d5a9-66f3-4f49-cf75-135e77a43656"
      },
      "execution_count": 5,
      "outputs": [
        {
          "output_type": "execute_result",
          "data": {
            "text/plain": [
              "tensor([7, 8])"
            ]
          },
          "metadata": {},
          "execution_count": 5
        }
      ]
    },
    {
      "cell_type": "code",
      "source": [
        "vector.ndim"
      ],
      "metadata": {
        "colab": {
          "base_uri": "https://localhost:8080/"
        },
        "id": "BOACo9UCmnwI",
        "outputId": "7eb65178-1eee-46ad-9e90-74a8586e6321"
      },
      "execution_count": 6,
      "outputs": [
        {
          "output_type": "execute_result",
          "data": {
            "text/plain": [
              "1"
            ]
          },
          "metadata": {},
          "execution_count": 6
        }
      ]
    },
    {
      "cell_type": "code",
      "source": [
        "vector.shape"
      ],
      "metadata": {
        "colab": {
          "base_uri": "https://localhost:8080/"
        },
        "id": "oE5D74Bmmqy5",
        "outputId": "82fb787a-01ae-4f6c-8db1-126f7f19d39f"
      },
      "execution_count": 7,
      "outputs": [
        {
          "output_type": "execute_result",
          "data": {
            "text/plain": [
              "torch.Size([2])"
            ]
          },
          "metadata": {},
          "execution_count": 7
        }
      ]
    },
    {
      "cell_type": "code",
      "source": [
        "vector[1]"
      ],
      "metadata": {
        "colab": {
          "base_uri": "https://localhost:8080/"
        },
        "id": "E3Fh6TfPmtd5",
        "outputId": "5ff76774-e927-4cb1-ba99-048a8db3fc9c"
      },
      "execution_count": 8,
      "outputs": [
        {
          "output_type": "execute_result",
          "data": {
            "text/plain": [
              "tensor(8)"
            ]
          },
          "metadata": {},
          "execution_count": 8
        }
      ]
    },
    {
      "cell_type": "code",
      "source": [
        "#matrix\n",
        "matrix=torch.tensor([[7,8],[9,10]])\n",
        "matrix"
      ],
      "metadata": {
        "colab": {
          "base_uri": "https://localhost:8080/"
        },
        "id": "a4vkEYI4m33O",
        "outputId": "3314e2ec-08c1-45a8-82af-44fefeb12a5c"
      },
      "execution_count": 9,
      "outputs": [
        {
          "output_type": "execute_result",
          "data": {
            "text/plain": [
              "tensor([[ 7,  8],\n",
              "        [ 9, 10]])"
            ]
          },
          "metadata": {},
          "execution_count": 9
        }
      ]
    },
    {
      "cell_type": "code",
      "source": [
        "matrix.ndim"
      ],
      "metadata": {
        "colab": {
          "base_uri": "https://localhost:8080/"
        },
        "id": "lUfzVhulm-JV",
        "outputId": "d274e930-f76e-48be-cfb5-3b1da244c1d9"
      },
      "execution_count": 10,
      "outputs": [
        {
          "output_type": "execute_result",
          "data": {
            "text/plain": [
              "2"
            ]
          },
          "metadata": {},
          "execution_count": 10
        }
      ]
    },
    {
      "cell_type": "code",
      "source": [
        "matrix.shape"
      ],
      "metadata": {
        "colab": {
          "base_uri": "https://localhost:8080/"
        },
        "id": "8tSzhKjHnABM",
        "outputId": "fc274fc0-9a63-4382-e399-c3a1278417c2"
      },
      "execution_count": 11,
      "outputs": [
        {
          "output_type": "execute_result",
          "data": {
            "text/plain": [
              "torch.Size([2, 2])"
            ]
          },
          "metadata": {},
          "execution_count": 11
        }
      ]
    },
    {
      "cell_type": "code",
      "source": [
        "matrix[1]"
      ],
      "metadata": {
        "colab": {
          "base_uri": "https://localhost:8080/"
        },
        "id": "r7E0K5vfnCI1",
        "outputId": "a0c9a484-19f3-4669-ce6b-db3d9effc2bb"
      },
      "execution_count": 12,
      "outputs": [
        {
          "output_type": "execute_result",
          "data": {
            "text/plain": [
              "tensor([ 9, 10])"
            ]
          },
          "metadata": {},
          "execution_count": 12
        }
      ]
    },
    {
      "cell_type": "code",
      "source": [
        "#tensor\n",
        "tensor=torch.tensor([[[1,2,3],[3,6,9],[2,4,5]]])\n",
        "tensor"
      ],
      "metadata": {
        "colab": {
          "base_uri": "https://localhost:8080/"
        },
        "id": "wSpbnF1pnLQ6",
        "outputId": "d5830545-3c91-4d12-d133-328de4e58160"
      },
      "execution_count": 13,
      "outputs": [
        {
          "output_type": "execute_result",
          "data": {
            "text/plain": [
              "tensor([[[1, 2, 3],\n",
              "         [3, 6, 9],\n",
              "         [2, 4, 5]]])"
            ]
          },
          "metadata": {},
          "execution_count": 13
        }
      ]
    },
    {
      "cell_type": "code",
      "source": [
        "tensor.ndim"
      ],
      "metadata": {
        "colab": {
          "base_uri": "https://localhost:8080/"
        },
        "id": "yQ_Pq-1JnS0a",
        "outputId": "2e32c6b5-1c4c-4028-d573-fffa724d02d6"
      },
      "execution_count": 14,
      "outputs": [
        {
          "output_type": "execute_result",
          "data": {
            "text/plain": [
              "3"
            ]
          },
          "metadata": {},
          "execution_count": 14
        }
      ]
    },
    {
      "cell_type": "code",
      "source": [
        "tensor.shape"
      ],
      "metadata": {
        "colab": {
          "base_uri": "https://localhost:8080/"
        },
        "id": "XfYcFl9InU_C",
        "outputId": "b31dcf89-6c55-4f42-da4f-878e62044bca"
      },
      "execution_count": 15,
      "outputs": [
        {
          "output_type": "execute_result",
          "data": {
            "text/plain": [
              "torch.Size([1, 3, 3])"
            ]
          },
          "metadata": {},
          "execution_count": 15
        }
      ]
    },
    {
      "cell_type": "code",
      "source": [
        "tensor[0][1][1]"
      ],
      "metadata": {
        "colab": {
          "base_uri": "https://localhost:8080/"
        },
        "id": "8MOdfwDanapI",
        "outputId": "81c20ce7-2de7-4570-d3ce-77c9376687d0"
      },
      "execution_count": 16,
      "outputs": [
        {
          "output_type": "execute_result",
          "data": {
            "text/plain": [
              "tensor(6)"
            ]
          },
          "metadata": {},
          "execution_count": 16
        }
      ]
    },
    {
      "cell_type": "markdown",
      "source": [
        "###Random Tensors and Random image tensor\n"
      ],
      "metadata": {
        "id": "YahO0Q4G7IJv"
      }
    },
    {
      "cell_type": "code",
      "source": [
        "#Random Tensors\n",
        "torch.rand(2,2,4)"
      ],
      "metadata": {
        "colab": {
          "base_uri": "https://localhost:8080/"
        },
        "id": "Hp9KZXId2gTW",
        "outputId": "08b07132-edee-48f4-de45-6074665e66c7"
      },
      "execution_count": 17,
      "outputs": [
        {
          "output_type": "execute_result",
          "data": {
            "text/plain": [
              "tensor([[[0.7123, 0.9431, 0.3014, 0.3239],\n",
              "         [0.5655, 0.0948, 0.0611, 0.0161]],\n",
              "\n",
              "        [[0.8596, 0.6159, 0.0597, 0.2089],\n",
              "         [0.0056, 0.8253, 0.6208, 0.9011]]])"
            ]
          },
          "metadata": {},
          "execution_count": 17
        }
      ]
    },
    {
      "cell_type": "code",
      "source": [
        "#Random image tensors\n",
        "randm_image_size_tensor=torch.rand(size=(224,224,3))\n",
        "randm_image_size_tensor.shape,randm_image_size_tensor.ndim"
      ],
      "metadata": {
        "colab": {
          "base_uri": "https://localhost:8080/"
        },
        "id": "DNVEeKR75pX-",
        "outputId": "0759b062-8332-4de6-a1cd-17886f99c102"
      },
      "execution_count": 18,
      "outputs": [
        {
          "output_type": "execute_result",
          "data": {
            "text/plain": [
              "(torch.Size([224, 224, 3]), 3)"
            ]
          },
          "metadata": {},
          "execution_count": 18
        }
      ]
    },
    {
      "cell_type": "markdown",
      "source": [
        "###Zeros and Ones"
      ],
      "metadata": {
        "id": "AmbIc8Tm7N33"
      }
    },
    {
      "cell_type": "code",
      "source": [
        "zeros=torch.zeros(size=(3,5))\n",
        "zeros"
      ],
      "metadata": {
        "colab": {
          "base_uri": "https://localhost:8080/"
        },
        "id": "dUTpx8eh7SYK",
        "outputId": "d9a595a0-a321-4549-86ee-118acfd001ca"
      },
      "execution_count": 19,
      "outputs": [
        {
          "output_type": "execute_result",
          "data": {
            "text/plain": [
              "tensor([[0., 0., 0., 0., 0.],\n",
              "        [0., 0., 0., 0., 0.],\n",
              "        [0., 0., 0., 0., 0.]])"
            ]
          },
          "metadata": {},
          "execution_count": 19
        }
      ]
    },
    {
      "cell_type": "code",
      "source": [
        "ones=torch.ones(size=(1,4))\n",
        "ones"
      ],
      "metadata": {
        "colab": {
          "base_uri": "https://localhost:8080/"
        },
        "id": "mZDZUIwD7tFy",
        "outputId": "955a034b-3015-4a0f-ed81-530b21abb39b"
      },
      "execution_count": 20,
      "outputs": [
        {
          "output_type": "execute_result",
          "data": {
            "text/plain": [
              "tensor([[1., 1., 1., 1.]])"
            ]
          },
          "metadata": {},
          "execution_count": 20
        }
      ]
    },
    {
      "cell_type": "markdown",
      "source": [
        "###Range of tensors and tensors like"
      ],
      "metadata": {
        "id": "TDYSxGiP89s9"
      }
    },
    {
      "cell_type": "code",
      "source": [
        "one_to_ten=torch.arange(start=1,end=11,step=1)\n",
        "one_to_ten"
      ],
      "metadata": {
        "colab": {
          "base_uri": "https://localhost:8080/"
        },
        "id": "_KwM198E9Dkn",
        "outputId": "2a7ae5b0-b807-409e-d39b-403b9bed1c37"
      },
      "execution_count": 21,
      "outputs": [
        {
          "output_type": "execute_result",
          "data": {
            "text/plain": [
              "tensor([ 1,  2,  3,  4,  5,  6,  7,  8,  9, 10])"
            ]
          },
          "metadata": {},
          "execution_count": 21
        }
      ]
    },
    {
      "cell_type": "code",
      "source": [
        "ten_zeros=torch.zeros_like(input=one_to_ten)\n",
        "ten_zeros"
      ],
      "metadata": {
        "colab": {
          "base_uri": "https://localhost:8080/"
        },
        "id": "JzmIfMwB9Ik0",
        "outputId": "fab7ffb1-7ca4-499d-bb8e-cea98ecaa005"
      },
      "execution_count": 22,
      "outputs": [
        {
          "output_type": "execute_result",
          "data": {
            "text/plain": [
              "tensor([0, 0, 0, 0, 0, 0, 0, 0, 0, 0])"
            ]
          },
          "metadata": {},
          "execution_count": 22
        }
      ]
    },
    {
      "cell_type": "markdown",
      "source": [
        "###Tensor Datatypes"
      ],
      "metadata": {
        "id": "70fa30_C9new"
      }
    },
    {
      "cell_type": "code",
      "source": [
        "float_32_tensor=torch.tensor(data=[3.0,6.0,9.0],\n",
        "                             dtype=None,\n",
        "                             device=None,\n",
        "                             requires_grad=False)\n",
        "float_32_tensor"
      ],
      "metadata": {
        "colab": {
          "base_uri": "https://localhost:8080/"
        },
        "id": "blAfhS3C-RVd",
        "outputId": "33c1be52-0c20-4aa0-8c14-ac01a18559d0"
      },
      "execution_count": 23,
      "outputs": [
        {
          "output_type": "execute_result",
          "data": {
            "text/plain": [
              "tensor([3., 6., 9.])"
            ]
          },
          "metadata": {},
          "execution_count": 23
        }
      ]
    },
    {
      "cell_type": "code",
      "source": [
        "float_16_tensor=float_32_tensor.type(torch.float16)\n",
        "float_16_tensor"
      ],
      "metadata": {
        "colab": {
          "base_uri": "https://localhost:8080/"
        },
        "id": "igB3obngACy2",
        "outputId": "010dbae9-2871-449c-c532-371963c34b9a"
      },
      "execution_count": 24,
      "outputs": [
        {
          "output_type": "execute_result",
          "data": {
            "text/plain": [
              "tensor([3., 6., 9.], dtype=torch.float16)"
            ]
          },
          "metadata": {},
          "execution_count": 24
        }
      ]
    },
    {
      "cell_type": "code",
      "source": [
        "float_32_tensor*float_16_tensor"
      ],
      "metadata": {
        "colab": {
          "base_uri": "https://localhost:8080/"
        },
        "id": "2OcvnLllAFHm",
        "outputId": "dfc76c18-0534-4887-c762-3720134a1a9a"
      },
      "execution_count": 25,
      "outputs": [
        {
          "output_type": "execute_result",
          "data": {
            "text/plain": [
              "tensor([ 9., 36., 81.])"
            ]
          },
          "metadata": {},
          "execution_count": 25
        }
      ]
    },
    {
      "cell_type": "markdown",
      "source": [
        "###Basic tensor related functions"
      ],
      "metadata": {
        "id": "Q_dhv_wCBksS"
      }
    },
    {
      "cell_type": "code",
      "source": [
        "some_tensor=torch.rand(3,4)\n",
        "some_tensor"
      ],
      "metadata": {
        "colab": {
          "base_uri": "https://localhost:8080/"
        },
        "id": "AW12nUREBh61",
        "outputId": "985393f2-e711-4d2d-aa4c-de843c242536"
      },
      "execution_count": 26,
      "outputs": [
        {
          "output_type": "execute_result",
          "data": {
            "text/plain": [
              "tensor([[0.8670, 0.2691, 0.6945, 0.7819],\n",
              "        [0.1205, 0.0071, 0.7475, 0.8423],\n",
              "        [0.9465, 0.9340, 0.0052, 0.6878]])"
            ]
          },
          "metadata": {},
          "execution_count": 26
        }
      ]
    },
    {
      "cell_type": "code",
      "source": [
        "print(f\"Shape of tensor : {some_tensor.shape}\")\n",
        "print(f\"Datatype of tensor : {some_tensor.dtype}\")\n",
        "print(f\"Device tensor is stored on : {some_tensor.device}\")"
      ],
      "metadata": {
        "colab": {
          "base_uri": "https://localhost:8080/"
        },
        "id": "njwa-5ozBxVe",
        "outputId": "3061b00f-1fab-4ebe-b50f-4f75df2b6f34"
      },
      "execution_count": 27,
      "outputs": [
        {
          "output_type": "stream",
          "name": "stdout",
          "text": [
            "Shape of tensor : torch.Size([3, 4])\n",
            "Datatype of tensor : torch.float32\n",
            "Device tensor is stored on : cpu\n"
          ]
        }
      ]
    },
    {
      "cell_type": "markdown",
      "source": [
        "###Tensor operations\n",
        "* Addition\n",
        "* Subtract\n",
        "* Multiply\n",
        "* Divide\n",
        "* Matrix Multiplication\n"
      ],
      "metadata": {
        "id": "93_KhhSlCwJ-"
      }
    },
    {
      "cell_type": "code",
      "source": [
        "tensor=torch.tensor([1,2,3])\n",
        "tensor+10"
      ],
      "metadata": {
        "colab": {
          "base_uri": "https://localhost:8080/"
        },
        "id": "85oTIw5SCyNO",
        "outputId": "45cce941-50dc-4f0c-eba1-48d3dac83abd"
      },
      "execution_count": 28,
      "outputs": [
        {
          "output_type": "execute_result",
          "data": {
            "text/plain": [
              "tensor([11, 12, 13])"
            ]
          },
          "metadata": {},
          "execution_count": 28
        }
      ]
    },
    {
      "cell_type": "code",
      "source": [
        "tensor-10"
      ],
      "metadata": {
        "colab": {
          "base_uri": "https://localhost:8080/"
        },
        "id": "ezvpmGxNDjHm",
        "outputId": "385052c4-cf58-4d43-8be8-248ea6bd971e"
      },
      "execution_count": 29,
      "outputs": [
        {
          "output_type": "execute_result",
          "data": {
            "text/plain": [
              "tensor([-9, -8, -7])"
            ]
          },
          "metadata": {},
          "execution_count": 29
        }
      ]
    },
    {
      "cell_type": "code",
      "source": [
        "tensor*10"
      ],
      "metadata": {
        "colab": {
          "base_uri": "https://localhost:8080/"
        },
        "id": "J1Fn8IKlDmYW",
        "outputId": "a2bca963-7521-4357-8bcc-cef924d7f85f"
      },
      "execution_count": 30,
      "outputs": [
        {
          "output_type": "execute_result",
          "data": {
            "text/plain": [
              "tensor([10, 20, 30])"
            ]
          },
          "metadata": {},
          "execution_count": 30
        }
      ]
    },
    {
      "cell_type": "markdown",
      "source": [
        "###Matrix Multiplication"
      ],
      "metadata": {
        "id": "fCvXkdfHEA2x"
      }
    },
    {
      "cell_type": "code",
      "source": [
        "%%time\n",
        "#Element wise multiplication\n",
        "value=0\n",
        "for i in range(len(tensor)):\n",
        "  value+=tensor[i]*10\n",
        "print(value)"
      ],
      "metadata": {
        "colab": {
          "base_uri": "https://localhost:8080/"
        },
        "id": "oA5PwAI6FnT-",
        "outputId": "680e4cc3-11cc-4c4c-dbaf-b80f1ef7373b"
      },
      "execution_count": 31,
      "outputs": [
        {
          "output_type": "stream",
          "name": "stdout",
          "text": [
            "tensor(60)\n",
            "CPU times: user 3.63 ms, sys: 0 ns, total: 3.63 ms\n",
            "Wall time: 8.07 ms\n"
          ]
        }
      ]
    },
    {
      "cell_type": "code",
      "source": [
        "%%time\n",
        "t1=torch.tensor([[1,2,3],[4,5,6],[7,8,9]])\n",
        "t2=torch.tensor([[1,2,3],[4,5,6],[7,8,9]])\n",
        "torch.matmul(t1,t2)"
      ],
      "metadata": {
        "colab": {
          "base_uri": "https://localhost:8080/"
        },
        "id": "0S5jyBrrEDWw",
        "outputId": "bd223f7d-9566-4cc0-d416-55d9c6440899"
      },
      "execution_count": 32,
      "outputs": [
        {
          "output_type": "stream",
          "name": "stdout",
          "text": [
            "CPU times: user 1.39 ms, sys: 243 µs, total: 1.64 ms\n",
            "Wall time: 5.14 ms\n"
          ]
        },
        {
          "output_type": "execute_result",
          "data": {
            "text/plain": [
              "tensor([[ 30,  36,  42],\n",
              "        [ 66,  81,  96],\n",
              "        [102, 126, 150]])"
            ]
          },
          "metadata": {},
          "execution_count": 32
        }
      ]
    },
    {
      "cell_type": "markdown",
      "source": [
        "###Facts\n",
        "* @ operator can also be used\n",
        "* The same rules of matrix multiplication will also get applied\n",
        "* Compatible multiplcation : inner dimensions must be the same eg: (3,2) & (2,3) will work\n",
        "* Also the resulting matrix will be (3,3)"
      ],
      "metadata": {
        "id": "822MZlTUGwiu"
      }
    },
    {
      "cell_type": "code",
      "source": [
        "%%time\n",
        "t1@t2"
      ],
      "metadata": {
        "colab": {
          "base_uri": "https://localhost:8080/"
        },
        "id": "3g4CXR07GYDy",
        "outputId": "cb247176-4f3c-4ef2-8eab-9b239b90a5ef"
      },
      "execution_count": 33,
      "outputs": [
        {
          "output_type": "stream",
          "name": "stdout",
          "text": [
            "CPU times: user 85 µs, sys: 15 µs, total: 100 µs\n",
            "Wall time: 103 µs\n"
          ]
        },
        {
          "output_type": "execute_result",
          "data": {
            "text/plain": [
              "tensor([[ 30,  36,  42],\n",
              "        [ 66,  81,  96],\n",
              "        [102, 126, 150]])"
            ]
          },
          "metadata": {},
          "execution_count": 33
        }
      ]
    },
    {
      "cell_type": "markdown",
      "source": [
        "##To fix tensor shape issues, we can use transpose\n",
        "* transpose switches the axes"
      ],
      "metadata": {
        "id": "wdq5XfgxJ8vv"
      }
    },
    {
      "cell_type": "code",
      "source": [
        " t1=torch.rand(size=(3,4))\n",
        " t2=torch.rand(size=(3,4))\n",
        " torch.matmul(t1,t2)"
      ],
      "metadata": {
        "colab": {
          "base_uri": "https://localhost:8080/",
          "height": 176
        },
        "id": "q0-86z0fKCof",
        "outputId": "f99f8bde-1672-435b-96e5-621a49e8c3c5"
      },
      "execution_count": 34,
      "outputs": [
        {
          "output_type": "error",
          "ename": "RuntimeError",
          "evalue": "mat1 and mat2 shapes cannot be multiplied (3x4 and 3x4)",
          "traceback": [
            "\u001b[0;31m---------------------------------------------------------------------------\u001b[0m",
            "\u001b[0;31mRuntimeError\u001b[0m                              Traceback (most recent call last)",
            "\u001b[0;32m<ipython-input-34-e84f29d79353>\u001b[0m in \u001b[0;36m<cell line: 3>\u001b[0;34m()\u001b[0m\n\u001b[1;32m      1\u001b[0m \u001b[0mt1\u001b[0m\u001b[0;34m=\u001b[0m\u001b[0mtorch\u001b[0m\u001b[0;34m.\u001b[0m\u001b[0mrand\u001b[0m\u001b[0;34m(\u001b[0m\u001b[0msize\u001b[0m\u001b[0;34m=\u001b[0m\u001b[0;34m(\u001b[0m\u001b[0;36m3\u001b[0m\u001b[0;34m,\u001b[0m\u001b[0;36m4\u001b[0m\u001b[0;34m)\u001b[0m\u001b[0;34m)\u001b[0m\u001b[0;34m\u001b[0m\u001b[0;34m\u001b[0m\u001b[0m\n\u001b[1;32m      2\u001b[0m \u001b[0mt2\u001b[0m\u001b[0;34m=\u001b[0m\u001b[0mtorch\u001b[0m\u001b[0;34m.\u001b[0m\u001b[0mrand\u001b[0m\u001b[0;34m(\u001b[0m\u001b[0msize\u001b[0m\u001b[0;34m=\u001b[0m\u001b[0;34m(\u001b[0m\u001b[0;36m3\u001b[0m\u001b[0;34m,\u001b[0m\u001b[0;36m4\u001b[0m\u001b[0;34m)\u001b[0m\u001b[0;34m)\u001b[0m\u001b[0;34m\u001b[0m\u001b[0;34m\u001b[0m\u001b[0m\n\u001b[0;32m----> 3\u001b[0;31m \u001b[0mtorch\u001b[0m\u001b[0;34m.\u001b[0m\u001b[0mmatmul\u001b[0m\u001b[0;34m(\u001b[0m\u001b[0mt1\u001b[0m\u001b[0;34m,\u001b[0m\u001b[0mt2\u001b[0m\u001b[0;34m)\u001b[0m\u001b[0;34m\u001b[0m\u001b[0;34m\u001b[0m\u001b[0m\n\u001b[0m",
            "\u001b[0;31mRuntimeError\u001b[0m: mat1 and mat2 shapes cannot be multiplied (3x4 and 3x4)"
          ]
        }
      ]
    },
    {
      "cell_type": "code",
      "source": [
        "#using transpose to change the shape of t2\n",
        "torch.matmul(t1,t2.T)"
      ],
      "metadata": {
        "colab": {
          "base_uri": "https://localhost:8080/"
        },
        "id": "tJ-jCB-nLdPP",
        "outputId": "0c86bcf2-ec1a-468a-f4d9-9e597d790fad"
      },
      "execution_count": 35,
      "outputs": [
        {
          "output_type": "execute_result",
          "data": {
            "text/plain": [
              "tensor([[0.9727, 0.9217, 0.8437],\n",
              "        [1.8837, 1.5979, 1.7345],\n",
              "        [1.5584, 1.3147, 1.4486]])"
            ]
          },
          "metadata": {},
          "execution_count": 35
        }
      ]
    },
    {
      "cell_type": "markdown",
      "source": [
        "###Tensor Aggregation"
      ],
      "metadata": {
        "id": "H8Y0p6bDLqau"
      }
    },
    {
      "cell_type": "code",
      "source": [
        "x=torch.arange(0,100,10)"
      ],
      "metadata": {
        "id": "KgF4sqsoLtg3"
      },
      "execution_count": 36,
      "outputs": []
    },
    {
      "cell_type": "code",
      "source": [
        "torch.min(x),torch.max(x),x.min(),x.max()"
      ],
      "metadata": {
        "colab": {
          "base_uri": "https://localhost:8080/"
        },
        "id": "yI183xuCNVan",
        "outputId": "23b8dce9-ff19-4339-f70d-dab08aa48cdb"
      },
      "execution_count": 37,
      "outputs": [
        {
          "output_type": "execute_result",
          "data": {
            "text/plain": [
              "(tensor(0), tensor(90), tensor(0), tensor(90))"
            ]
          },
          "metadata": {},
          "execution_count": 37
        }
      ]
    },
    {
      "cell_type": "code",
      "source": [
        "torch.mean(x.type(torch.float32)),x.type(torch.float32).mean()"
      ],
      "metadata": {
        "colab": {
          "base_uri": "https://localhost:8080/"
        },
        "id": "ZnIDOcNrNiF3",
        "outputId": "0f542f8a-c366-42f7-9449-3b0e8500eed6"
      },
      "execution_count": 38,
      "outputs": [
        {
          "output_type": "execute_result",
          "data": {
            "text/plain": [
              "(tensor(45.), tensor(45.))"
            ]
          },
          "metadata": {},
          "execution_count": 38
        }
      ]
    },
    {
      "cell_type": "code",
      "source": [
        "torch.sum(x),x.sum()"
      ],
      "metadata": {
        "colab": {
          "base_uri": "https://localhost:8080/"
        },
        "id": "Dw37YcA-N0yE",
        "outputId": "8ef55e23-1aaf-46ba-ac22-8a3c811dc5f6"
      },
      "execution_count": 39,
      "outputs": [
        {
          "output_type": "execute_result",
          "data": {
            "text/plain": [
              "(tensor(450), tensor(450))"
            ]
          },
          "metadata": {},
          "execution_count": 39
        }
      ]
    },
    {
      "cell_type": "markdown",
      "source": [
        "### Positional min and max"
      ],
      "metadata": {
        "id": "9u8cGyCgONZt"
      }
    },
    {
      "cell_type": "code",
      "source": [
        "x"
      ],
      "metadata": {
        "colab": {
          "base_uri": "https://localhost:8080/"
        },
        "id": "NCJnXowyOMSP",
        "outputId": "41c4994a-bff9-4698-8e32-2beb2c99dc54"
      },
      "execution_count": 40,
      "outputs": [
        {
          "output_type": "execute_result",
          "data": {
            "text/plain": [
              "tensor([ 0, 10, 20, 30, 40, 50, 60, 70, 80, 90])"
            ]
          },
          "metadata": {},
          "execution_count": 40
        }
      ]
    },
    {
      "cell_type": "code",
      "source": [
        "x.argmin(),x.argmax()"
      ],
      "metadata": {
        "colab": {
          "base_uri": "https://localhost:8080/"
        },
        "id": "tFW7XjfoOipH",
        "outputId": "a0f3fde8-f2ec-4948-bc08-24ea4706140f"
      },
      "execution_count": 41,
      "outputs": [
        {
          "output_type": "execute_result",
          "data": {
            "text/plain": [
              "(tensor(0), tensor(9))"
            ]
          },
          "metadata": {},
          "execution_count": 41
        }
      ]
    },
    {
      "cell_type": "markdown",
      "source": [
        "### Operations\n",
        "* Reshape\n",
        "* View : In case of view, the `variable` storing the view will also have the same memory so the changes made to this variable will also get reflected in the original variable\n",
        "* Stack"
      ],
      "metadata": {
        "id": "q5JV6CJHS2aP"
      }
    },
    {
      "cell_type": "code",
      "source": [
        "tensor=torch.rand(100)\n",
        "tensor,tensor.shape"
      ],
      "metadata": {
        "colab": {
          "base_uri": "https://localhost:8080/"
        },
        "id": "St38utfOTde5",
        "outputId": "01787521-a0e8-49e8-b46d-c4a2b0847e5f"
      },
      "execution_count": 42,
      "outputs": [
        {
          "output_type": "execute_result",
          "data": {
            "text/plain": [
              "(tensor([0.4807, 0.1076, 0.1863, 0.9704, 0.2994, 0.1246, 0.1947, 0.8415, 0.3367,\n",
              "         0.0030, 0.1332, 0.0341, 0.3125, 0.1576, 0.7974, 0.6860, 0.7589, 0.5569,\n",
              "         0.2840, 0.3375, 0.8454, 0.2127, 0.9774, 0.9725, 0.6903, 0.6539, 0.7460,\n",
              "         0.9622, 0.9296, 0.5532, 0.4769, 0.9903, 0.4775, 0.1844, 0.4417, 0.1032,\n",
              "         0.7070, 0.0665, 0.1570, 0.5937, 0.6616, 0.7345, 0.6777, 0.0250, 0.9397,\n",
              "         0.0458, 0.5868, 0.3862, 0.3281, 0.6471, 0.0505, 0.2261, 0.3842, 0.1641,\n",
              "         0.0021, 0.7333, 0.4355, 0.2045, 0.6163, 0.2998, 0.6941, 0.4017, 0.1062,\n",
              "         0.6571, 0.2698, 0.9545, 0.4288, 0.7225, 0.5934, 0.1651, 0.9396, 0.2946,\n",
              "         0.5941, 0.0856, 0.9305, 0.4802, 0.9113, 0.1449, 0.7737, 0.2582, 0.6674,\n",
              "         0.8478, 0.4746, 0.9034, 0.2528, 0.7868, 0.8596, 0.8702, 0.6121, 0.7659,\n",
              "         0.3440, 0.1919, 0.2985, 0.9610, 0.4521, 0.9320, 0.6760, 0.8019, 0.6436,\n",
              "         0.7431]),\n",
              " torch.Size([100]))"
            ]
          },
          "metadata": {},
          "execution_count": 42
        }
      ]
    },
    {
      "cell_type": "code",
      "source": [
        "z=tensor.reshape(1,100)\n",
        "z,z.shape"
      ],
      "metadata": {
        "colab": {
          "base_uri": "https://localhost:8080/"
        },
        "id": "oQVC4qhnUJQm",
        "outputId": "edae8873-2dc6-4187-e3a1-afa3a089581c"
      },
      "execution_count": 43,
      "outputs": [
        {
          "output_type": "execute_result",
          "data": {
            "text/plain": [
              "(tensor([[0.4807, 0.1076, 0.1863, 0.9704, 0.2994, 0.1246, 0.1947, 0.8415, 0.3367,\n",
              "          0.0030, 0.1332, 0.0341, 0.3125, 0.1576, 0.7974, 0.6860, 0.7589, 0.5569,\n",
              "          0.2840, 0.3375, 0.8454, 0.2127, 0.9774, 0.9725, 0.6903, 0.6539, 0.7460,\n",
              "          0.9622, 0.9296, 0.5532, 0.4769, 0.9903, 0.4775, 0.1844, 0.4417, 0.1032,\n",
              "          0.7070, 0.0665, 0.1570, 0.5937, 0.6616, 0.7345, 0.6777, 0.0250, 0.9397,\n",
              "          0.0458, 0.5868, 0.3862, 0.3281, 0.6471, 0.0505, 0.2261, 0.3842, 0.1641,\n",
              "          0.0021, 0.7333, 0.4355, 0.2045, 0.6163, 0.2998, 0.6941, 0.4017, 0.1062,\n",
              "          0.6571, 0.2698, 0.9545, 0.4288, 0.7225, 0.5934, 0.1651, 0.9396, 0.2946,\n",
              "          0.5941, 0.0856, 0.9305, 0.4802, 0.9113, 0.1449, 0.7737, 0.2582, 0.6674,\n",
              "          0.8478, 0.4746, 0.9034, 0.2528, 0.7868, 0.8596, 0.8702, 0.6121, 0.7659,\n",
              "          0.3440, 0.1919, 0.2985, 0.9610, 0.4521, 0.9320, 0.6760, 0.8019, 0.6436,\n",
              "          0.7431]]),\n",
              " torch.Size([1, 100]))"
            ]
          },
          "metadata": {},
          "execution_count": 43
        }
      ]
    },
    {
      "cell_type": "code",
      "source": [
        "w=tensor.view(10,10)\n",
        "w,w.shape"
      ],
      "metadata": {
        "colab": {
          "base_uri": "https://localhost:8080/"
        },
        "id": "ekRGXl22UXj4",
        "outputId": "cff69bab-360a-4e01-da39-cd9d11ba0ae3"
      },
      "execution_count": 44,
      "outputs": [
        {
          "output_type": "execute_result",
          "data": {
            "text/plain": [
              "(tensor([[0.4807, 0.1076, 0.1863, 0.9704, 0.2994, 0.1246, 0.1947, 0.8415, 0.3367,\n",
              "          0.0030],\n",
              "         [0.1332, 0.0341, 0.3125, 0.1576, 0.7974, 0.6860, 0.7589, 0.5569, 0.2840,\n",
              "          0.3375],\n",
              "         [0.8454, 0.2127, 0.9774, 0.9725, 0.6903, 0.6539, 0.7460, 0.9622, 0.9296,\n",
              "          0.5532],\n",
              "         [0.4769, 0.9903, 0.4775, 0.1844, 0.4417, 0.1032, 0.7070, 0.0665, 0.1570,\n",
              "          0.5937],\n",
              "         [0.6616, 0.7345, 0.6777, 0.0250, 0.9397, 0.0458, 0.5868, 0.3862, 0.3281,\n",
              "          0.6471],\n",
              "         [0.0505, 0.2261, 0.3842, 0.1641, 0.0021, 0.7333, 0.4355, 0.2045, 0.6163,\n",
              "          0.2998],\n",
              "         [0.6941, 0.4017, 0.1062, 0.6571, 0.2698, 0.9545, 0.4288, 0.7225, 0.5934,\n",
              "          0.1651],\n",
              "         [0.9396, 0.2946, 0.5941, 0.0856, 0.9305, 0.4802, 0.9113, 0.1449, 0.7737,\n",
              "          0.2582],\n",
              "         [0.6674, 0.8478, 0.4746, 0.9034, 0.2528, 0.7868, 0.8596, 0.8702, 0.6121,\n",
              "          0.7659],\n",
              "         [0.3440, 0.1919, 0.2985, 0.9610, 0.4521, 0.9320, 0.6760, 0.8019, 0.6436,\n",
              "          0.7431]]),\n",
              " torch.Size([10, 10]))"
            ]
          },
          "metadata": {},
          "execution_count": 44
        }
      ]
    },
    {
      "cell_type": "code",
      "source": [
        "tensor=tensor.reshape(10,10)\n",
        "tensor,tensor.shape"
      ],
      "metadata": {
        "colab": {
          "base_uri": "https://localhost:8080/"
        },
        "id": "aW2lTWCMUe8T",
        "outputId": "3d6dbba1-c83c-475d-ceba-27455d033f9e"
      },
      "execution_count": 45,
      "outputs": [
        {
          "output_type": "execute_result",
          "data": {
            "text/plain": [
              "(tensor([[0.4807, 0.1076, 0.1863, 0.9704, 0.2994, 0.1246, 0.1947, 0.8415, 0.3367,\n",
              "          0.0030],\n",
              "         [0.1332, 0.0341, 0.3125, 0.1576, 0.7974, 0.6860, 0.7589, 0.5569, 0.2840,\n",
              "          0.3375],\n",
              "         [0.8454, 0.2127, 0.9774, 0.9725, 0.6903, 0.6539, 0.7460, 0.9622, 0.9296,\n",
              "          0.5532],\n",
              "         [0.4769, 0.9903, 0.4775, 0.1844, 0.4417, 0.1032, 0.7070, 0.0665, 0.1570,\n",
              "          0.5937],\n",
              "         [0.6616, 0.7345, 0.6777, 0.0250, 0.9397, 0.0458, 0.5868, 0.3862, 0.3281,\n",
              "          0.6471],\n",
              "         [0.0505, 0.2261, 0.3842, 0.1641, 0.0021, 0.7333, 0.4355, 0.2045, 0.6163,\n",
              "          0.2998],\n",
              "         [0.6941, 0.4017, 0.1062, 0.6571, 0.2698, 0.9545, 0.4288, 0.7225, 0.5934,\n",
              "          0.1651],\n",
              "         [0.9396, 0.2946, 0.5941, 0.0856, 0.9305, 0.4802, 0.9113, 0.1449, 0.7737,\n",
              "          0.2582],\n",
              "         [0.6674, 0.8478, 0.4746, 0.9034, 0.2528, 0.7868, 0.8596, 0.8702, 0.6121,\n",
              "          0.7659],\n",
              "         [0.3440, 0.1919, 0.2985, 0.9610, 0.4521, 0.9320, 0.6760, 0.8019, 0.6436,\n",
              "          0.7431]]),\n",
              " torch.Size([10, 10]))"
            ]
          },
          "metadata": {},
          "execution_count": 45
        }
      ]
    },
    {
      "cell_type": "code",
      "source": [
        "tensor=torch.arange(10)\n",
        "tensor,tensor.shape"
      ],
      "metadata": {
        "colab": {
          "base_uri": "https://localhost:8080/"
        },
        "id": "L6h4USpQYbIA",
        "outputId": "23f860fd-ed80-436e-8f8a-3349871ddb93"
      },
      "execution_count": 46,
      "outputs": [
        {
          "output_type": "execute_result",
          "data": {
            "text/plain": [
              "(tensor([0, 1, 2, 3, 4, 5, 6, 7, 8, 9]), torch.Size([10]))"
            ]
          },
          "metadata": {},
          "execution_count": 46
        }
      ]
    },
    {
      "cell_type": "markdown",
      "source": [
        "###horizontal and vertical stack"
      ],
      "metadata": {
        "id": "Qf92LMbhpQ2y"
      }
    },
    {
      "cell_type": "code",
      "source": [
        "torch.stack([tensor,tensor],dim=0)"
      ],
      "metadata": {
        "colab": {
          "base_uri": "https://localhost:8080/"
        },
        "id": "cavAyr3LYXEg",
        "outputId": "9d1b72ce-e6ed-45e1-e3ed-0b014c3fbb62"
      },
      "execution_count": 47,
      "outputs": [
        {
          "output_type": "execute_result",
          "data": {
            "text/plain": [
              "tensor([[0, 1, 2, 3, 4, 5, 6, 7, 8, 9],\n",
              "        [0, 1, 2, 3, 4, 5, 6, 7, 8, 9]])"
            ]
          },
          "metadata": {},
          "execution_count": 47
        }
      ]
    },
    {
      "cell_type": "code",
      "source": [
        "torch.stack([tensor,tensor],dim=1)"
      ],
      "metadata": {
        "colab": {
          "base_uri": "https://localhost:8080/"
        },
        "id": "t3nxI4euYGR-",
        "outputId": "ac1e6f32-e2b6-4b9c-b243-6e76774ddfa6"
      },
      "execution_count": 48,
      "outputs": [
        {
          "output_type": "execute_result",
          "data": {
            "text/plain": [
              "tensor([[0, 0],\n",
              "        [1, 1],\n",
              "        [2, 2],\n",
              "        [3, 3],\n",
              "        [4, 4],\n",
              "        [5, 5],\n",
              "        [6, 6],\n",
              "        [7, 7],\n",
              "        [8, 8],\n",
              "        [9, 9]])"
            ]
          },
          "metadata": {},
          "execution_count": 48
        }
      ]
    },
    {
      "cell_type": "markdown",
      "source": [
        "###Facts\n",
        "* squeeze : removes the `1` dimension\n",
        "* unsqueeze : adds up the `1` dimension\n",
        "* permute : rearranges the dimensions"
      ],
      "metadata": {
        "id": "nYwNSGQFjMOn"
      }
    },
    {
      "cell_type": "code",
      "source": [
        "tensor=torch.rand(1,100)\n",
        "tensor,tensor.shape"
      ],
      "metadata": {
        "colab": {
          "base_uri": "https://localhost:8080/"
        },
        "id": "6PWLDAVXjeFp",
        "outputId": "a27fbb8d-339d-4318-f3e3-672344ca371f"
      },
      "execution_count": 49,
      "outputs": [
        {
          "output_type": "execute_result",
          "data": {
            "text/plain": [
              "(tensor([[0.6919, 0.7006, 0.7060, 0.3249, 0.9423, 0.8738, 0.5751, 0.2584, 0.6093,\n",
              "          0.6421, 0.5374, 0.1946, 0.6327, 0.9581, 0.0425, 0.5744, 0.1425, 0.8829,\n",
              "          0.9092, 0.9538, 0.3406, 0.8009, 0.7959, 0.2031, 0.4283, 0.8863, 0.4349,\n",
              "          0.7661, 0.8088, 0.8483, 0.9275, 0.0723, 0.2792, 0.3839, 0.2144, 0.8227,\n",
              "          0.5429, 0.2581, 0.7366, 0.0027, 0.3271, 0.9098, 0.4916, 0.9472, 0.6275,\n",
              "          0.0751, 0.9559, 0.7799, 0.5182, 0.6701, 0.6864, 0.5232, 0.1782, 0.9506,\n",
              "          0.0529, 0.9373, 0.5263, 0.6975, 0.6710, 0.7097, 0.4833, 0.6532, 0.0502,\n",
              "          0.3911, 0.9587, 0.3773, 0.8393, 0.3185, 0.0475, 0.1672, 0.9121, 0.8496,\n",
              "          0.6935, 0.0205, 0.0312, 0.1277, 0.3949, 0.3896, 0.7738, 0.9376, 0.6856,\n",
              "          0.4532, 0.1599, 0.5432, 0.1566, 0.6555, 0.7652, 0.1114, 0.7527, 0.0763,\n",
              "          0.8749, 0.5391, 0.8993, 0.5768, 0.6525, 0.2776, 0.7485, 0.9726, 0.9438,\n",
              "          0.7167]]),\n",
              " torch.Size([1, 100]))"
            ]
          },
          "metadata": {},
          "execution_count": 49
        }
      ]
    },
    {
      "cell_type": "code",
      "source": [
        "torch.squeeze(tensor)"
      ],
      "metadata": {
        "colab": {
          "base_uri": "https://localhost:8080/"
        },
        "id": "sFYAXrgJisO_",
        "outputId": "303aff18-82fa-4ca6-d4ae-499798405100"
      },
      "execution_count": 50,
      "outputs": [
        {
          "output_type": "execute_result",
          "data": {
            "text/plain": [
              "tensor([0.6919, 0.7006, 0.7060, 0.3249, 0.9423, 0.8738, 0.5751, 0.2584, 0.6093,\n",
              "        0.6421, 0.5374, 0.1946, 0.6327, 0.9581, 0.0425, 0.5744, 0.1425, 0.8829,\n",
              "        0.9092, 0.9538, 0.3406, 0.8009, 0.7959, 0.2031, 0.4283, 0.8863, 0.4349,\n",
              "        0.7661, 0.8088, 0.8483, 0.9275, 0.0723, 0.2792, 0.3839, 0.2144, 0.8227,\n",
              "        0.5429, 0.2581, 0.7366, 0.0027, 0.3271, 0.9098, 0.4916, 0.9472, 0.6275,\n",
              "        0.0751, 0.9559, 0.7799, 0.5182, 0.6701, 0.6864, 0.5232, 0.1782, 0.9506,\n",
              "        0.0529, 0.9373, 0.5263, 0.6975, 0.6710, 0.7097, 0.4833, 0.6532, 0.0502,\n",
              "        0.3911, 0.9587, 0.3773, 0.8393, 0.3185, 0.0475, 0.1672, 0.9121, 0.8496,\n",
              "        0.6935, 0.0205, 0.0312, 0.1277, 0.3949, 0.3896, 0.7738, 0.9376, 0.6856,\n",
              "        0.4532, 0.1599, 0.5432, 0.1566, 0.6555, 0.7652, 0.1114, 0.7527, 0.0763,\n",
              "        0.8749, 0.5391, 0.8993, 0.5768, 0.6525, 0.2776, 0.7485, 0.9726, 0.9438,\n",
              "        0.7167])"
            ]
          },
          "metadata": {},
          "execution_count": 50
        }
      ]
    },
    {
      "cell_type": "code",
      "source": [
        "tensor=torch.arange(10)\n",
        "tensor,tensor.shape"
      ],
      "metadata": {
        "colab": {
          "base_uri": "https://localhost:8080/"
        },
        "id": "M45ZmHQHkXY3",
        "outputId": "57d22474-bef8-4d3f-e045-aa8528942e42"
      },
      "execution_count": 51,
      "outputs": [
        {
          "output_type": "execute_result",
          "data": {
            "text/plain": [
              "(tensor([0, 1, 2, 3, 4, 5, 6, 7, 8, 9]), torch.Size([10]))"
            ]
          },
          "metadata": {},
          "execution_count": 51
        }
      ]
    },
    {
      "cell_type": "code",
      "source": [
        "torch.unsqueeze(tensor,0)"
      ],
      "metadata": {
        "colab": {
          "base_uri": "https://localhost:8080/"
        },
        "id": "VXx160sBjlrw",
        "outputId": "7bfc958d-d71d-4986-8b22-c9dfe9821450"
      },
      "execution_count": 52,
      "outputs": [
        {
          "output_type": "execute_result",
          "data": {
            "text/plain": [
              "tensor([[0, 1, 2, 3, 4, 5, 6, 7, 8, 9]])"
            ]
          },
          "metadata": {},
          "execution_count": 52
        }
      ]
    },
    {
      "cell_type": "code",
      "source": [
        "tensor=tensor.reshape(1,10)\n",
        "tensor.permute(1,0)"
      ],
      "metadata": {
        "colab": {
          "base_uri": "https://localhost:8080/"
        },
        "id": "_hGU6t0OkfBu",
        "outputId": "070f2be4-13a4-4da9-f46b-aa92377604aa"
      },
      "execution_count": 53,
      "outputs": [
        {
          "output_type": "execute_result",
          "data": {
            "text/plain": [
              "tensor([[0],\n",
              "        [1],\n",
              "        [2],\n",
              "        [3],\n",
              "        [4],\n",
              "        [5],\n",
              "        [6],\n",
              "        [7],\n",
              "        [8],\n",
              "        [9]])"
            ]
          },
          "metadata": {},
          "execution_count": 53
        }
      ]
    },
    {
      "cell_type": "markdown",
      "source": [
        "###Indexing : getting specific data from tensors"
      ],
      "metadata": {
        "id": "f5749wO6qBDT"
      }
    },
    {
      "cell_type": "code",
      "source": [
        "import torch\n",
        "\n",
        "x = torch.arange(1, 10).reshape(1, 3, 3)\n",
        "x, x.shape"
      ],
      "metadata": {
        "colab": {
          "base_uri": "https://localhost:8080/"
        },
        "id": "B4dRzptKpgoq",
        "outputId": "d56da8f2-23ce-43ab-c88a-eb60347f50e7"
      },
      "execution_count": 54,
      "outputs": [
        {
          "output_type": "execute_result",
          "data": {
            "text/plain": [
              "(tensor([[[1, 2, 3],\n",
              "          [4, 5, 6],\n",
              "          [7, 8, 9]]]),\n",
              " torch.Size([1, 3, 3]))"
            ]
          },
          "metadata": {},
          "execution_count": 54
        }
      ]
    },
    {
      "cell_type": "code",
      "source": [
        "x[0]"
      ],
      "metadata": {
        "colab": {
          "base_uri": "https://localhost:8080/"
        },
        "id": "vmUgEzoKqvkk",
        "outputId": "aded1a66-765d-42a9-e887-c4652f887cfa"
      },
      "execution_count": 58,
      "outputs": [
        {
          "output_type": "execute_result",
          "data": {
            "text/plain": [
              "tensor([[1, 2, 3],\n",
              "        [4, 5, 6],\n",
              "        [7, 8, 9]])"
            ]
          },
          "metadata": {},
          "execution_count": 58
        }
      ]
    },
    {
      "cell_type": "code",
      "source": [
        "x[0][2]"
      ],
      "metadata": {
        "colab": {
          "base_uri": "https://localhost:8080/"
        },
        "id": "A9mBN1HQqH3G",
        "outputId": "95b9d65e-4b2b-4aac-e406-59ce437524c6"
      },
      "execution_count": 57,
      "outputs": [
        {
          "output_type": "execute_result",
          "data": {
            "text/plain": [
              "tensor([7, 8, 9])"
            ]
          },
          "metadata": {},
          "execution_count": 57
        }
      ]
    },
    {
      "cell_type": "code",
      "source": [
        "x[0][2][2]"
      ],
      "metadata": {
        "colab": {
          "base_uri": "https://localhost:8080/"
        },
        "id": "4dfSLWw7qHwA",
        "outputId": "7446a4b3-e8f1-404d-dd71-3e0e9ef9e8b1"
      },
      "execution_count": 60,
      "outputs": [
        {
          "output_type": "execute_result",
          "data": {
            "text/plain": [
              "tensor(9)"
            ]
          },
          "metadata": {},
          "execution_count": 60
        }
      ]
    },
    {
      "cell_type": "code",
      "source": [
        "x[0,2]"
      ],
      "metadata": {
        "colab": {
          "base_uri": "https://localhost:8080/"
        },
        "id": "Wl0dxEIqqHqy",
        "outputId": "4943f806-f633-49df-dbc4-3cd5d803e96a"
      },
      "execution_count": 61,
      "outputs": [
        {
          "output_type": "execute_result",
          "data": {
            "text/plain": [
              "tensor([7, 8, 9])"
            ]
          },
          "metadata": {},
          "execution_count": 61
        }
      ]
    },
    {
      "cell_type": "markdown",
      "source": [
        "###we can also use `:` for choosing all the values of that particular tensor"
      ],
      "metadata": {
        "id": "8zfz13OGr3RZ"
      }
    },
    {
      "cell_type": "code",
      "source": [
        "x[:,:,:]"
      ],
      "metadata": {
        "colab": {
          "base_uri": "https://localhost:8080/"
        },
        "id": "-0KyC5hrqHhg",
        "outputId": "2a05495a-fe57-4976-b759-7fed3cbeb92a"
      },
      "execution_count": 65,
      "outputs": [
        {
          "output_type": "execute_result",
          "data": {
            "text/plain": [
              "tensor([[[1, 2, 3],\n",
              "         [4, 5, 6],\n",
              "         [7, 8, 9]]])"
            ]
          },
          "metadata": {},
          "execution_count": 65
        }
      ]
    },
    {
      "cell_type": "code",
      "source": [
        "x[:,2]"
      ],
      "metadata": {
        "colab": {
          "base_uri": "https://localhost:8080/"
        },
        "id": "0tRuMLZ9q7Tk",
        "outputId": "13f6bb71-10ee-4d8a-9a8e-eb39e900f832"
      },
      "execution_count": 66,
      "outputs": [
        {
          "output_type": "execute_result",
          "data": {
            "text/plain": [
              "tensor([[7, 8, 9]])"
            ]
          },
          "metadata": {},
          "execution_count": 66
        }
      ]
    },
    {
      "cell_type": "code",
      "source": [
        "x[:,:,2]"
      ],
      "metadata": {
        "colab": {
          "base_uri": "https://localhost:8080/"
        },
        "id": "Tuxgb7jBq7RG",
        "outputId": "ee73a098-1ba3-4829-c110-295b4281c687"
      },
      "execution_count": 74,
      "outputs": [
        {
          "output_type": "execute_result",
          "data": {
            "text/plain": [
              "tensor([[3, 6, 9]])"
            ]
          },
          "metadata": {},
          "execution_count": 74
        }
      ]
    },
    {
      "cell_type": "code",
      "source": [
        "x[:,1,:]"
      ],
      "metadata": {
        "colab": {
          "base_uri": "https://localhost:8080/"
        },
        "id": "UqiTTeejtCq6",
        "outputId": "634077da-ee4a-4fb7-cc4f-60d699f80176"
      },
      "execution_count": 72,
      "outputs": [
        {
          "output_type": "execute_result",
          "data": {
            "text/plain": [
              "tensor([[4, 5, 6]])"
            ]
          },
          "metadata": {},
          "execution_count": 72
        }
      ]
    },
    {
      "cell_type": "code",
      "source": [
        "x[:,2,2]"
      ],
      "metadata": {
        "colab": {
          "base_uri": "https://localhost:8080/"
        },
        "id": "DVTsvYivtZAZ",
        "outputId": "2c52aed7-2ef3-4496-d9b5-cf1bc40a0054"
      },
      "execution_count": 73,
      "outputs": [
        {
          "output_type": "execute_result",
          "data": {
            "text/plain": [
              "tensor([9])"
            ]
          },
          "metadata": {},
          "execution_count": 73
        }
      ]
    },
    {
      "cell_type": "markdown",
      "source": [
        "###PyTorch and NumPy\n",
        "* Numpy to Tensor : `tensor.from_numpy()`\n",
        "* Tensor to Numpy : `torch.Tensor.numpy()`\n",
        "* Default datatype of numpy : `float64`\n",
        "* Default datatype of tensor : `float32`"
      ],
      "metadata": {
        "id": "D2VhXiu8ut7p"
      }
    },
    {
      "cell_type": "code",
      "source": [
        "import torch\n",
        "import numpy as np\n",
        "\n",
        "#Numpy to tensor\n",
        "array=np.arange(1.0,8.0)\n",
        "tensor=torch.from_numpy(array)\n",
        "array,tensor"
      ],
      "metadata": {
        "colab": {
          "base_uri": "https://localhost:8080/"
        },
        "id": "ZWK2NijCtdYY",
        "outputId": "5c2562f7-3174-44be-fc9d-66e94aa99d9d"
      },
      "execution_count": 75,
      "outputs": [
        {
          "output_type": "execute_result",
          "data": {
            "text/plain": [
              "(array([1., 2., 3., 4., 5., 6., 7.]),\n",
              " tensor([1., 2., 3., 4., 5., 6., 7.], dtype=torch.float64))"
            ]
          },
          "metadata": {},
          "execution_count": 75
        }
      ]
    },
    {
      "cell_type": "code",
      "source": [
        "array.dtype"
      ],
      "metadata": {
        "colab": {
          "base_uri": "https://localhost:8080/"
        },
        "id": "r03-QwsZyP3J",
        "outputId": "2a67dfb8-b2c5-432f-9850-7d0294ed99a1"
      },
      "execution_count": 76,
      "outputs": [
        {
          "output_type": "execute_result",
          "data": {
            "text/plain": [
              "dtype('float64')"
            ]
          },
          "metadata": {},
          "execution_count": 76
        }
      ]
    },
    {
      "cell_type": "code",
      "source": [
        "torch.arange(1.0,10.0).dtype"
      ],
      "metadata": {
        "colab": {
          "base_uri": "https://localhost:8080/"
        },
        "id": "ESOhIaZ7q7OU",
        "outputId": "09433292-ad8b-46f4-d6d6-f442a5214781"
      },
      "execution_count": 77,
      "outputs": [
        {
          "output_type": "execute_result",
          "data": {
            "text/plain": [
              "torch.float32"
            ]
          },
          "metadata": {},
          "execution_count": 77
        }
      ]
    },
    {
      "cell_type": "code",
      "source": [
        "array=array+1\n",
        "array,tensor"
      ],
      "metadata": {
        "colab": {
          "base_uri": "https://localhost:8080/"
        },
        "id": "q04qy5yWq7ME",
        "outputId": "5d42d64b-0456-4969-8183-b42aeb2b7b9d"
      },
      "execution_count": 78,
      "outputs": [
        {
          "output_type": "execute_result",
          "data": {
            "text/plain": [
              "(array([2., 3., 4., 5., 6., 7., 8.]),\n",
              " tensor([1., 2., 3., 4., 5., 6., 7.], dtype=torch.float64))"
            ]
          },
          "metadata": {},
          "execution_count": 78
        }
      ]
    },
    {
      "cell_type": "code",
      "source": [
        "#Tensor to Numpy\n",
        "tensor=torch.ones(7)\n",
        "numpy_tensor=tensor.numpy()\n",
        "tensor,numpy_tensor"
      ],
      "metadata": {
        "colab": {
          "base_uri": "https://localhost:8080/"
        },
        "id": "a0KIRrXSq7JN",
        "outputId": "89115fdb-01b5-467d-f003-d1f4388c84b7"
      },
      "execution_count": 79,
      "outputs": [
        {
          "output_type": "execute_result",
          "data": {
            "text/plain": [
              "(tensor([1., 1., 1., 1., 1., 1., 1.]),\n",
              " array([1., 1., 1., 1., 1., 1., 1.], dtype=float32))"
            ]
          },
          "metadata": {},
          "execution_count": 79
        }
      ]
    },
    {
      "cell_type": "code",
      "source": [
        "tensor=tensor+2\n",
        "numpy_tensor,tensor"
      ],
      "metadata": {
        "colab": {
          "base_uri": "https://localhost:8080/"
        },
        "id": "7xUfjQ6Lq7D8",
        "outputId": "65bff53d-5533-4ee9-829a-e6bcfd7bd3be"
      },
      "execution_count": 81,
      "outputs": [
        {
          "output_type": "execute_result",
          "data": {
            "text/plain": [
              "(array([1., 1., 1., 1., 1., 1., 1.], dtype=float32),\n",
              " tensor([3., 3., 3., 3., 3., 3., 3.]))"
            ]
          },
          "metadata": {},
          "execution_count": 81
        }
      ]
    },
    {
      "cell_type": "markdown",
      "source": [
        "###Random seed\n",
        "* In neural networks, intially random tensors are used and eventually they are adjusted to fit the data in a better manner\n",
        "* So, here even though the tensors are generated manually inorder to `flavour the randomness`(to create some sort of smilarity) we use `random seed`"
      ],
      "metadata": {
        "id": "kS60m8vp0w5e"
      }
    },
    {
      "cell_type": "code",
      "source": [
        "import torch\n",
        "\n",
        "t1=torch.rand(3,2)\n",
        "t2=torch.rand(3,2)\n",
        "\n",
        "print(t1)\n",
        "print(t2)\n",
        "print(t1==t2)"
      ],
      "metadata": {
        "colab": {
          "base_uri": "https://localhost:8080/"
        },
        "id": "SAORsIfg1qxC",
        "outputId": "14d5a471-3135-490a-81d5-c6d8753f2fad"
      },
      "execution_count": 83,
      "outputs": [
        {
          "output_type": "stream",
          "name": "stdout",
          "text": [
            "tensor([[0.2566, 0.7936],\n",
            "        [0.9408, 0.1332],\n",
            "        [0.9346, 0.5936]])\n",
            "tensor([[0.8694, 0.5677],\n",
            "        [0.7411, 0.4294],\n",
            "        [0.8854, 0.5739]])\n",
            "tensor([[False, False],\n",
            "        [False, False],\n",
            "        [False, False]])\n"
          ]
        }
      ]
    },
    {
      "cell_type": "code",
      "source": [
        "import torch\n",
        "\n",
        "RANDOM_SEED=42\n",
        "torch.manual_seed(RANDOM_SEED)\n",
        "t1=torch.rand(3,2)\n",
        "\n",
        "torch.manual_seed(RANDOM_SEED)\n",
        "t2=torch.rand(3,2)\n",
        "\n",
        "print(t1)\n",
        "print(t2)\n",
        "print(t1==t2)"
      ],
      "metadata": {
        "colab": {
          "base_uri": "https://localhost:8080/"
        },
        "id": "Rgs0WOrdq6-s",
        "outputId": "6cdf3517-a320-45da-84c0-8eae654a9a7c"
      },
      "execution_count": 82,
      "outputs": [
        {
          "output_type": "stream",
          "name": "stdout",
          "text": [
            "tensor([[0.8823, 0.9150],\n",
            "        [0.3829, 0.9593],\n",
            "        [0.3904, 0.6009]])\n",
            "tensor([[0.8823, 0.9150],\n",
            "        [0.3829, 0.9593],\n",
            "        [0.3904, 0.6009]])\n",
            "tensor([[True, True],\n",
            "        [True, True],\n",
            "        [True, True]])\n"
          ]
        }
      ]
    },
    {
      "cell_type": "markdown",
      "source": [
        "###Running tensors and PyTorch on GPUs"
      ],
      "metadata": {
        "id": "XN0F1sj_4OAA"
      }
    },
    {
      "cell_type": "code",
      "source": [
        "!nvidia-smi"
      ],
      "metadata": {
        "colab": {
          "base_uri": "https://localhost:8080/"
        },
        "id": "uy5yqzzQ4TY4",
        "outputId": "eb96cc25-961c-4c3b-db0e-612601bdfa1b"
      },
      "execution_count": 1,
      "outputs": [
        {
          "output_type": "stream",
          "name": "stdout",
          "text": [
            "Thu Jun 13 13:55:26 2024       \n",
            "+---------------------------------------------------------------------------------------+\n",
            "| NVIDIA-SMI 535.104.05             Driver Version: 535.104.05   CUDA Version: 12.2     |\n",
            "|-----------------------------------------+----------------------+----------------------+\n",
            "| GPU  Name                 Persistence-M | Bus-Id        Disp.A | Volatile Uncorr. ECC |\n",
            "| Fan  Temp   Perf          Pwr:Usage/Cap |         Memory-Usage | GPU-Util  Compute M. |\n",
            "|                                         |                      |               MIG M. |\n",
            "|=========================================+======================+======================|\n",
            "|   0  Tesla T4                       Off | 00000000:00:04.0 Off |                    0 |\n",
            "| N/A   41C    P8               9W /  70W |      0MiB / 15360MiB |      0%      Default |\n",
            "|                                         |                      |                  N/A |\n",
            "+-----------------------------------------+----------------------+----------------------+\n",
            "                                                                                         \n",
            "+---------------------------------------------------------------------------------------+\n",
            "| Processes:                                                                            |\n",
            "|  GPU   GI   CI        PID   Type   Process name                            GPU Memory |\n",
            "|        ID   ID                                                             Usage      |\n",
            "|=======================================================================================|\n",
            "|  No running processes found                                                           |\n",
            "+---------------------------------------------------------------------------------------+\n"
          ]
        }
      ]
    },
    {
      "cell_type": "code",
      "source": [
        "import torch\n",
        "torch.cuda.is_available()"
      ],
      "metadata": {
        "colab": {
          "base_uri": "https://localhost:8080/"
        },
        "id": "oAt1rrML4s6r",
        "outputId": "71eb2fc5-eb00-4d20-85a8-7f39999c052a"
      },
      "execution_count": 2,
      "outputs": [
        {
          "output_type": "execute_result",
          "data": {
            "text/plain": [
              "True"
            ]
          },
          "metadata": {},
          "execution_count": 2
        }
      ]
    },
    {
      "cell_type": "code",
      "source": [
        "#Device Agnostic code\n",
        "device=\"cuda\" if torch.cuda.is_available() else \"cpu\"\n",
        "device"
      ],
      "metadata": {
        "colab": {
          "base_uri": "https://localhost:8080/",
          "height": 36
        },
        "id": "gSD2q8x95h4y",
        "outputId": "80cac9de-642e-4e5d-a473-7be1708b2ce4"
      },
      "execution_count": 3,
      "outputs": [
        {
          "output_type": "execute_result",
          "data": {
            "text/plain": [
              "'cuda'"
            ],
            "application/vnd.google.colaboratory.intrinsic+json": {
              "type": "string"
            }
          },
          "metadata": {},
          "execution_count": 3
        }
      ]
    },
    {
      "cell_type": "code",
      "source": [
        "#Count number of devices\n",
        "torch.cuda.device_count()"
      ],
      "metadata": {
        "colab": {
          "base_uri": "https://localhost:8080/"
        },
        "id": "JYAmRfAK5mup",
        "outputId": "d9b2e5cc-855f-49f2-8437-e05a0e8d5757"
      },
      "execution_count": 4,
      "outputs": [
        {
          "output_type": "execute_result",
          "data": {
            "text/plain": [
              "1"
            ]
          },
          "metadata": {},
          "execution_count": 4
        }
      ]
    },
    {
      "cell_type": "markdown",
      "source": [
        "###Running tensors and models on GPUs become faster"
      ],
      "metadata": {
        "id": "HQPJjC6y5usf"
      }
    },
    {
      "cell_type": "code",
      "source": [
        "#Tensors by defaut get created on CPUs\n",
        "tensor=torch.tensor([1,2,3])\n",
        "print(tensor,tensor.device)"
      ],
      "metadata": {
        "colab": {
          "base_uri": "https://localhost:8080/"
        },
        "id": "VblG08bk54QR",
        "outputId": "ec6b2f2e-8a77-48f1-a56e-4f2691abab4d"
      },
      "execution_count": 5,
      "outputs": [
        {
          "output_type": "stream",
          "name": "stdout",
          "text": [
            "tensor([1, 2, 3]) cpu\n"
          ]
        }
      ]
    },
    {
      "cell_type": "markdown",
      "source": [
        "* The above `torch.device` specifies the device on which the tensors are located\n",
        "* In the next code cell, `torch.to(device)` changes the device; this is possible only due to the device `agnostic code` written earlier"
      ],
      "metadata": {
        "id": "4kkvorLq6VrQ"
      }
    },
    {
      "cell_type": "code",
      "source": [
        "#On GPU\n",
        "tensor_on_gpu=tensor.to(device)\n",
        "tensor_on_gpu,tensor_on_gpu.device"
      ],
      "metadata": {
        "colab": {
          "base_uri": "https://localhost:8080/"
        },
        "id": "roEwvGrC6tCY",
        "outputId": "b2e35546-84aa-463c-9317-3f97cc72584c"
      },
      "execution_count": 6,
      "outputs": [
        {
          "output_type": "execute_result",
          "data": {
            "text/plain": [
              "(tensor([1, 2, 3], device='cuda:0'), device(type='cuda', index=0))"
            ]
          },
          "metadata": {},
          "execution_count": 6
        }
      ]
    },
    {
      "cell_type": "markdown",
      "source": [
        "* `numpy` can only work inside the cpu\n",
        "* `tensor.numpy()` converts tensors to numpy"
      ],
      "metadata": {
        "id": "XxB0osgC7aSc"
      }
    },
    {
      "cell_type": "code",
      "source": [
        "#Numpy\n",
        "tensor_on_gpu.numpy()"
      ],
      "metadata": {
        "colab": {
          "base_uri": "https://localhost:8080/",
          "height": 176
        },
        "id": "PEQeCjkN7TuL",
        "outputId": "6f10b665-20c4-47d6-d283-c29264b93d81"
      },
      "execution_count": 7,
      "outputs": [
        {
          "output_type": "error",
          "ename": "TypeError",
          "evalue": "can't convert cuda:0 device type tensor to numpy. Use Tensor.cpu() to copy the tensor to host memory first.",
          "traceback": [
            "\u001b[0;31m---------------------------------------------------------------------------\u001b[0m",
            "\u001b[0;31mTypeError\u001b[0m                                 Traceback (most recent call last)",
            "\u001b[0;32m<ipython-input-7-6bf8b8257642>\u001b[0m in \u001b[0;36m<cell line: 2>\u001b[0;34m()\u001b[0m\n\u001b[1;32m      1\u001b[0m \u001b[0;31m#Numpy\u001b[0m\u001b[0;34m\u001b[0m\u001b[0;34m\u001b[0m\u001b[0m\n\u001b[0;32m----> 2\u001b[0;31m \u001b[0mtensor_on_gpu\u001b[0m\u001b[0;34m.\u001b[0m\u001b[0mnumpy\u001b[0m\u001b[0;34m(\u001b[0m\u001b[0;34m)\u001b[0m\u001b[0;34m\u001b[0m\u001b[0;34m\u001b[0m\u001b[0m\n\u001b[0m",
            "\u001b[0;31mTypeError\u001b[0m: can't convert cuda:0 device type tensor to numpy. Use Tensor.cpu() to copy the tensor to host memory first."
          ]
        }
      ]
    },
    {
      "cell_type": "code",
      "source": [
        "#Solving the error\n",
        "tensor_on_cpu=tensor_on_gpu.cpu()\n",
        "tensor_on_cpu,tensor_on_cpu.device"
      ],
      "metadata": {
        "colab": {
          "base_uri": "https://localhost:8080/"
        },
        "id": "u60t65bG7qG6",
        "outputId": "d9a7a81f-88e9-4745-829b-f83947d9487c"
      },
      "execution_count": 8,
      "outputs": [
        {
          "output_type": "execute_result",
          "data": {
            "text/plain": [
              "(tensor([1, 2, 3]), device(type='cpu'))"
            ]
          },
          "metadata": {},
          "execution_count": 8
        }
      ]
    },
    {
      "cell_type": "code",
      "source": [
        "tensor_on_gpu"
      ],
      "metadata": {
        "colab": {
          "base_uri": "https://localhost:8080/"
        },
        "id": "ket6PM5i70s5",
        "outputId": "6ff21026-9fec-4226-eed5-5b0e2776d173"
      },
      "execution_count": 9,
      "outputs": [
        {
          "output_type": "execute_result",
          "data": {
            "text/plain": [
              "tensor([1, 2, 3], device='cuda:0')"
            ]
          },
          "metadata": {},
          "execution_count": 9
        }
      ]
    }
  ]
}