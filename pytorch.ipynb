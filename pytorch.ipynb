{
  "nbformat": 4,
  "nbformat_minor": 0,
  "metadata": {
    "colab": {
      "provenance": [],
      "authorship_tag": "ABX9TyPHOdB646vgyka2t98gqq1D",
      "include_colab_link": true
    },
    "kernelspec": {
      "name": "python3",
      "display_name": "Python 3"
    },
    "language_info": {
      "name": "python"
    }
  },
  "cells": [
    {
      "cell_type": "markdown",
      "metadata": {
        "id": "view-in-github",
        "colab_type": "text"
      },
      "source": [
        "<a href=\"https://colab.research.google.com/github/govardhan-06/Colab-Notebooks/blob/main/pytorch.ipynb\" target=\"_parent\"><img src=\"https://colab.research.google.com/assets/colab-badge.svg\" alt=\"Open In Colab\"/></a>"
      ]
    },
    {
      "cell_type": "code",
      "execution_count": null,
      "metadata": {
        "id": "foULhwKtj9ih"
      },
      "outputs": [],
      "source": [
        "import torch\n",
        "import numpy as np\n",
        "import pandas as pd\n",
        "import matplotlib.pyplot as plt"
      ]
    },
    {
      "cell_type": "markdown",
      "source": [
        "###Scalars, Vectors, Tensors and Matrix"
      ],
      "metadata": {
        "id": "ueZtt0H57BUA"
      }
    },
    {
      "cell_type": "code",
      "source": [
        "#scalar\n",
        "scalar=torch.tensor(7)\n",
        "scalar"
      ],
      "metadata": {
        "colab": {
          "base_uri": "https://localhost:8080/"
        },
        "id": "ZUqW2PvIl4wp",
        "outputId": "8c68d2a7-bb62-4244-9f2e-997725a1a425"
      },
      "execution_count": null,
      "outputs": [
        {
          "output_type": "execute_result",
          "data": {
            "text/plain": [
              "tensor(7)"
            ]
          },
          "metadata": {},
          "execution_count": 2
        }
      ]
    },
    {
      "cell_type": "code",
      "source": [
        "scalar.ndim"
      ],
      "metadata": {
        "colab": {
          "base_uri": "https://localhost:8080/"
        },
        "id": "OG2X56RQmVQB",
        "outputId": "32117c4a-e3ea-4dc2-c8f9-e5a798c8750c"
      },
      "execution_count": null,
      "outputs": [
        {
          "output_type": "execute_result",
          "data": {
            "text/plain": [
              "0"
            ]
          },
          "metadata": {},
          "execution_count": 3
        }
      ]
    },
    {
      "cell_type": "code",
      "source": [
        "scalar.shape"
      ],
      "metadata": {
        "colab": {
          "base_uri": "https://localhost:8080/"
        },
        "id": "olbDjJWcmXjZ",
        "outputId": "aa952b13-f785-4a61-d3e2-860c350378e9"
      },
      "execution_count": null,
      "outputs": [
        {
          "output_type": "execute_result",
          "data": {
            "text/plain": [
              "torch.Size([])"
            ]
          },
          "metadata": {},
          "execution_count": 4
        }
      ]
    },
    {
      "cell_type": "code",
      "source": [
        " #vector\n",
        " vector=torch.tensor([7,8])\n",
        " vector"
      ],
      "metadata": {
        "colab": {
          "base_uri": "https://localhost:8080/"
        },
        "id": "dU-4VNPBknpC",
        "outputId": "b18ca282-bb6c-4569-f6cb-6e776c25a107"
      },
      "execution_count": null,
      "outputs": [
        {
          "output_type": "execute_result",
          "data": {
            "text/plain": [
              "tensor([7, 8])"
            ]
          },
          "metadata": {},
          "execution_count": 5
        }
      ]
    },
    {
      "cell_type": "code",
      "source": [
        "vector.ndim"
      ],
      "metadata": {
        "colab": {
          "base_uri": "https://localhost:8080/"
        },
        "id": "BOACo9UCmnwI",
        "outputId": "70d05e6c-827a-41b6-9f62-1a6bcc8d6128"
      },
      "execution_count": null,
      "outputs": [
        {
          "output_type": "execute_result",
          "data": {
            "text/plain": [
              "1"
            ]
          },
          "metadata": {},
          "execution_count": 6
        }
      ]
    },
    {
      "cell_type": "code",
      "source": [
        "vector.shape"
      ],
      "metadata": {
        "colab": {
          "base_uri": "https://localhost:8080/"
        },
        "id": "oE5D74Bmmqy5",
        "outputId": "d45fd4fc-ce88-4721-cbf3-8606f65abee6"
      },
      "execution_count": null,
      "outputs": [
        {
          "output_type": "execute_result",
          "data": {
            "text/plain": [
              "torch.Size([2])"
            ]
          },
          "metadata": {},
          "execution_count": 7
        }
      ]
    },
    {
      "cell_type": "code",
      "source": [
        "vector[1]"
      ],
      "metadata": {
        "colab": {
          "base_uri": "https://localhost:8080/"
        },
        "id": "E3Fh6TfPmtd5",
        "outputId": "3bcdf287-dee8-4bb3-b87f-a4e37c8e2d0e"
      },
      "execution_count": null,
      "outputs": [
        {
          "output_type": "execute_result",
          "data": {
            "text/plain": [
              "tensor(8)"
            ]
          },
          "metadata": {},
          "execution_count": 8
        }
      ]
    },
    {
      "cell_type": "code",
      "source": [
        "#matrix\n",
        "matrix=torch.tensor([[7,8],[9,10]])\n",
        "matrix"
      ],
      "metadata": {
        "colab": {
          "base_uri": "https://localhost:8080/"
        },
        "id": "a4vkEYI4m33O",
        "outputId": "6de8d1ea-276c-43c5-8bf1-cf79d8b18e75"
      },
      "execution_count": null,
      "outputs": [
        {
          "output_type": "execute_result",
          "data": {
            "text/plain": [
              "tensor([[ 7,  8],\n",
              "        [ 9, 10]])"
            ]
          },
          "metadata": {},
          "execution_count": 9
        }
      ]
    },
    {
      "cell_type": "code",
      "source": [
        "matrix.ndim"
      ],
      "metadata": {
        "colab": {
          "base_uri": "https://localhost:8080/"
        },
        "id": "lUfzVhulm-JV",
        "outputId": "5f675f5a-f02a-4c0d-f099-41b11926413e"
      },
      "execution_count": null,
      "outputs": [
        {
          "output_type": "execute_result",
          "data": {
            "text/plain": [
              "2"
            ]
          },
          "metadata": {},
          "execution_count": 10
        }
      ]
    },
    {
      "cell_type": "code",
      "source": [
        "matrix.shape"
      ],
      "metadata": {
        "colab": {
          "base_uri": "https://localhost:8080/"
        },
        "id": "8tSzhKjHnABM",
        "outputId": "c73c8669-b514-4111-b291-f077ab6865ad"
      },
      "execution_count": null,
      "outputs": [
        {
          "output_type": "execute_result",
          "data": {
            "text/plain": [
              "torch.Size([2, 2])"
            ]
          },
          "metadata": {},
          "execution_count": 11
        }
      ]
    },
    {
      "cell_type": "code",
      "source": [
        "matrix[1]"
      ],
      "metadata": {
        "colab": {
          "base_uri": "https://localhost:8080/"
        },
        "id": "r7E0K5vfnCI1",
        "outputId": "8f587849-8905-473a-ce96-296393a8c3b3"
      },
      "execution_count": null,
      "outputs": [
        {
          "output_type": "execute_result",
          "data": {
            "text/plain": [
              "tensor([ 9, 10])"
            ]
          },
          "metadata": {},
          "execution_count": 12
        }
      ]
    },
    {
      "cell_type": "code",
      "source": [
        "#tensor\n",
        "tensor=torch.tensor([[[1,2,3],[3,6,9],[2,4,5]]])\n",
        "tensor"
      ],
      "metadata": {
        "colab": {
          "base_uri": "https://localhost:8080/"
        },
        "id": "wSpbnF1pnLQ6",
        "outputId": "894b4010-080f-4cbc-c451-ee8e639e62d3"
      },
      "execution_count": null,
      "outputs": [
        {
          "output_type": "execute_result",
          "data": {
            "text/plain": [
              "tensor([[[1, 2, 3],\n",
              "         [3, 6, 9],\n",
              "         [2, 4, 5]]])"
            ]
          },
          "metadata": {},
          "execution_count": 13
        }
      ]
    },
    {
      "cell_type": "code",
      "source": [
        "tensor.ndim"
      ],
      "metadata": {
        "colab": {
          "base_uri": "https://localhost:8080/"
        },
        "id": "yQ_Pq-1JnS0a",
        "outputId": "1c4fbbe7-9e9f-462e-c4de-c42bd26c000e"
      },
      "execution_count": null,
      "outputs": [
        {
          "output_type": "execute_result",
          "data": {
            "text/plain": [
              "3"
            ]
          },
          "metadata": {},
          "execution_count": 14
        }
      ]
    },
    {
      "cell_type": "code",
      "source": [
        "tensor.shape"
      ],
      "metadata": {
        "colab": {
          "base_uri": "https://localhost:8080/"
        },
        "id": "XfYcFl9InU_C",
        "outputId": "54a6c46f-eb28-439f-b003-d22d83998665"
      },
      "execution_count": null,
      "outputs": [
        {
          "output_type": "execute_result",
          "data": {
            "text/plain": [
              "torch.Size([1, 3, 3])"
            ]
          },
          "metadata": {},
          "execution_count": 15
        }
      ]
    },
    {
      "cell_type": "code",
      "source": [
        "tensor[0][1][1]"
      ],
      "metadata": {
        "colab": {
          "base_uri": "https://localhost:8080/"
        },
        "id": "8MOdfwDanapI",
        "outputId": "58152405-2852-4c0b-aef0-6a9fdb76909d"
      },
      "execution_count": null,
      "outputs": [
        {
          "output_type": "execute_result",
          "data": {
            "text/plain": [
              "tensor(6)"
            ]
          },
          "metadata": {},
          "execution_count": 16
        }
      ]
    },
    {
      "cell_type": "markdown",
      "source": [
        "###Random Tensors and Random image tensor\n"
      ],
      "metadata": {
        "id": "YahO0Q4G7IJv"
      }
    },
    {
      "cell_type": "code",
      "source": [
        "#Random Tensors\n",
        "torch.rand(2,2,4)"
      ],
      "metadata": {
        "colab": {
          "base_uri": "https://localhost:8080/"
        },
        "id": "Hp9KZXId2gTW",
        "outputId": "580d2678-ac37-4ed9-e6db-ff68c3d4731f"
      },
      "execution_count": null,
      "outputs": [
        {
          "output_type": "execute_result",
          "data": {
            "text/plain": [
              "tensor([[[0.9684, 0.3333, 0.0849, 0.4758],\n",
              "         [0.7404, 0.3857, 0.8811, 0.2000]],\n",
              "\n",
              "        [[0.8630, 0.6025, 0.9371, 0.5015],\n",
              "         [0.5643, 0.4438, 0.6194, 0.3348]]])"
            ]
          },
          "metadata": {},
          "execution_count": 19
        }
      ]
    },
    {
      "cell_type": "code",
      "source": [
        "#Random image tensors\n",
        "randm_image_size_tensor=torch.rand(size=(224,224,3))\n",
        "randm_image_size_tensor.shape,randm_image_size_tensor.ndim"
      ],
      "metadata": {
        "colab": {
          "base_uri": "https://localhost:8080/"
        },
        "id": "DNVEeKR75pX-",
        "outputId": "20328288-7875-4ff5-a23b-de6f0771954d"
      },
      "execution_count": null,
      "outputs": [
        {
          "output_type": "execute_result",
          "data": {
            "text/plain": [
              "(torch.Size([224, 224, 3]), 3)"
            ]
          },
          "metadata": {},
          "execution_count": 20
        }
      ]
    },
    {
      "cell_type": "markdown",
      "source": [
        "###Zeros and Ones"
      ],
      "metadata": {
        "id": "AmbIc8Tm7N33"
      }
    },
    {
      "cell_type": "code",
      "source": [
        "zeros=torch.zeros(size=(3,5))\n",
        "zeros"
      ],
      "metadata": {
        "colab": {
          "base_uri": "https://localhost:8080/"
        },
        "id": "dUTpx8eh7SYK",
        "outputId": "03adbb6a-0e6a-46b0-c766-79d47773f046"
      },
      "execution_count": null,
      "outputs": [
        {
          "output_type": "execute_result",
          "data": {
            "text/plain": [
              "tensor([[0., 0., 0., 0., 0.],\n",
              "        [0., 0., 0., 0., 0.],\n",
              "        [0., 0., 0., 0., 0.]])"
            ]
          },
          "metadata": {},
          "execution_count": 25
        }
      ]
    },
    {
      "cell_type": "code",
      "source": [
        "ones=torch.ones(size=(1,4))\n",
        "ones"
      ],
      "metadata": {
        "colab": {
          "base_uri": "https://localhost:8080/"
        },
        "id": "mZDZUIwD7tFy",
        "outputId": "5e0bfd19-95aa-45cc-a3f1-8c17c8e933db"
      },
      "execution_count": null,
      "outputs": [
        {
          "output_type": "execute_result",
          "data": {
            "text/plain": [
              "tensor([[1., 1., 1., 1.]])"
            ]
          },
          "metadata": {},
          "execution_count": 26
        }
      ]
    },
    {
      "cell_type": "markdown",
      "source": [
        "###Range of tensors and tensors like"
      ],
      "metadata": {
        "id": "TDYSxGiP89s9"
      }
    },
    {
      "cell_type": "code",
      "source": [
        "one_to_ten=torch.arange(start=1,end=11,step=1)\n",
        "one_to_ten"
      ],
      "metadata": {
        "colab": {
          "base_uri": "https://localhost:8080/"
        },
        "id": "_KwM198E9Dkn",
        "outputId": "d91a5ce1-d566-4ce9-d073-a8ae9b51f0ad"
      },
      "execution_count": null,
      "outputs": [
        {
          "output_type": "execute_result",
          "data": {
            "text/plain": [
              "tensor([ 1,  2,  3,  4,  5,  6,  7,  8,  9, 10])"
            ]
          },
          "metadata": {},
          "execution_count": 27
        }
      ]
    },
    {
      "cell_type": "code",
      "source": [
        "ten_zeros=torch.zeros_like(input=one_to_ten)\n",
        "ten_zeros"
      ],
      "metadata": {
        "colab": {
          "base_uri": "https://localhost:8080/"
        },
        "id": "JzmIfMwB9Ik0",
        "outputId": "81aca674-e054-47b1-9b57-4adceae755ba"
      },
      "execution_count": null,
      "outputs": [
        {
          "output_type": "execute_result",
          "data": {
            "text/plain": [
              "tensor([0, 0, 0, 0, 0, 0, 0, 0, 0, 0])"
            ]
          },
          "metadata": {},
          "execution_count": 28
        }
      ]
    },
    {
      "cell_type": "markdown",
      "source": [
        "###Tensor Datatypes"
      ],
      "metadata": {
        "id": "70fa30_C9new"
      }
    },
    {
      "cell_type": "code",
      "source": [
        "float_32_tensor=torch.tensor(data=[3.0,6.0,9.0],\n",
        "                             dtype=None,\n",
        "                             device=None,\n",
        "                             requires_grad=False)\n",
        "float_32_tensor"
      ],
      "metadata": {
        "colab": {
          "base_uri": "https://localhost:8080/"
        },
        "id": "blAfhS3C-RVd",
        "outputId": "0d5865bf-918a-45a8-a488-b5fff93df103"
      },
      "execution_count": null,
      "outputs": [
        {
          "output_type": "execute_result",
          "data": {
            "text/plain": [
              "tensor([3., 6., 9.])"
            ]
          },
          "metadata": {},
          "execution_count": 30
        }
      ]
    },
    {
      "cell_type": "code",
      "source": [
        "float_16_tensor=float_32_tensor.type(torch.float16)\n",
        "float_16_tensor"
      ],
      "metadata": {
        "colab": {
          "base_uri": "https://localhost:8080/"
        },
        "id": "igB3obngACy2",
        "outputId": "f85ee1dd-80b6-4ca7-c0b2-394eda7bb07c"
      },
      "execution_count": null,
      "outputs": [
        {
          "output_type": "execute_result",
          "data": {
            "text/plain": [
              "tensor([3., 6., 9.], dtype=torch.float16)"
            ]
          },
          "metadata": {},
          "execution_count": 31
        }
      ]
    },
    {
      "cell_type": "code",
      "source": [
        "float_32_tensor*float_16_tensor"
      ],
      "metadata": {
        "colab": {
          "base_uri": "https://localhost:8080/"
        },
        "id": "2OcvnLllAFHm",
        "outputId": "e454af64-6944-4a02-eb93-3751a36c2221"
      },
      "execution_count": null,
      "outputs": [
        {
          "output_type": "execute_result",
          "data": {
            "text/plain": [
              "tensor([ 9., 36., 81.])"
            ]
          },
          "metadata": {},
          "execution_count": 32
        }
      ]
    },
    {
      "cell_type": "markdown",
      "source": [
        "###Basic tensor related functions"
      ],
      "metadata": {
        "id": "Q_dhv_wCBksS"
      }
    },
    {
      "cell_type": "code",
      "source": [
        "some_tensor=torch.rand(3,4)\n",
        "some_tensor"
      ],
      "metadata": {
        "colab": {
          "base_uri": "https://localhost:8080/"
        },
        "id": "AW12nUREBh61",
        "outputId": "fd284c2b-44e6-41a0-9c88-0967577f1fd5"
      },
      "execution_count": null,
      "outputs": [
        {
          "output_type": "execute_result",
          "data": {
            "text/plain": [
              "tensor([[0.8816, 0.0106, 0.9409, 0.9496],\n",
              "        [0.0614, 0.9778, 0.9504, 0.5509],\n",
              "        [0.5163, 0.2909, 0.9220, 0.9486]])"
            ]
          },
          "metadata": {},
          "execution_count": 33
        }
      ]
    },
    {
      "cell_type": "code",
      "source": [
        "print(f\"Shape of tensor : {some_tensor.shape}\")\n",
        "print(f\"Datatype of tensor : {some_tensor.dtype}\")\n",
        "print(f\"Device tensor is stored on : {some_tensor.device}\")"
      ],
      "metadata": {
        "colab": {
          "base_uri": "https://localhost:8080/"
        },
        "id": "njwa-5ozBxVe",
        "outputId": "aad61f7d-c665-4c99-9048-9f3941662560"
      },
      "execution_count": null,
      "outputs": [
        {
          "output_type": "stream",
          "name": "stdout",
          "text": [
            "Shape of tensor : torch.Size([3, 4])\n",
            "Datatype of tensor : torch.float32\n",
            "Device tensor is stored on : cpu\n"
          ]
        }
      ]
    },
    {
      "cell_type": "markdown",
      "source": [
        "###Tensor operations\n",
        "* Addition\n",
        "* Subtract\n",
        "* Multiply\n",
        "* Divide\n",
        "* Matrix Multiplication\n"
      ],
      "metadata": {
        "id": "93_KhhSlCwJ-"
      }
    },
    {
      "cell_type": "code",
      "source": [
        "tensor=torch.tensor([1,2,3])\n",
        "tensor+10"
      ],
      "metadata": {
        "colab": {
          "base_uri": "https://localhost:8080/"
        },
        "id": "85oTIw5SCyNO",
        "outputId": "9560ce6e-13d3-4458-b9cc-576eff3d2380"
      },
      "execution_count": null,
      "outputs": [
        {
          "output_type": "execute_result",
          "data": {
            "text/plain": [
              "tensor([11, 12, 13])"
            ]
          },
          "metadata": {},
          "execution_count": 35
        }
      ]
    },
    {
      "cell_type": "code",
      "source": [
        "tensor-10"
      ],
      "metadata": {
        "colab": {
          "base_uri": "https://localhost:8080/"
        },
        "id": "ezvpmGxNDjHm",
        "outputId": "e7611040-3c9d-44e9-b0f1-6930a84f3824"
      },
      "execution_count": null,
      "outputs": [
        {
          "output_type": "execute_result",
          "data": {
            "text/plain": [
              "tensor([-9, -8, -7])"
            ]
          },
          "metadata": {},
          "execution_count": 36
        }
      ]
    },
    {
      "cell_type": "code",
      "source": [
        "tensor*10"
      ],
      "metadata": {
        "colab": {
          "base_uri": "https://localhost:8080/"
        },
        "id": "J1Fn8IKlDmYW",
        "outputId": "32508cf1-bad4-46d7-b4d3-3a613f7cd701"
      },
      "execution_count": null,
      "outputs": [
        {
          "output_type": "execute_result",
          "data": {
            "text/plain": [
              "tensor([10, 20, 30])"
            ]
          },
          "metadata": {},
          "execution_count": 37
        }
      ]
    },
    {
      "cell_type": "markdown",
      "source": [
        "###Matrix Multiplication"
      ],
      "metadata": {
        "id": "fCvXkdfHEA2x"
      }
    },
    {
      "cell_type": "code",
      "source": [
        "%%time\n",
        "#Element wise multiplication\n",
        "value=0\n",
        "for i in range(len(tensor)):\n",
        "  value+=tensor[i]*10\n",
        "print(value)"
      ],
      "metadata": {
        "colab": {
          "base_uri": "https://localhost:8080/"
        },
        "id": "oA5PwAI6FnT-",
        "outputId": "96e95385-b6bb-42f2-d250-d1a3a30d6a37"
      },
      "execution_count": null,
      "outputs": [
        {
          "output_type": "stream",
          "name": "stdout",
          "text": [
            "tensor(60)\n",
            "CPU times: user 4.23 ms, sys: 7 µs, total: 4.24 ms\n",
            "Wall time: 9.82 ms\n"
          ]
        }
      ]
    },
    {
      "cell_type": "code",
      "source": [
        "%%time\n",
        "t1=torch.tensor([[1,2,3],[4,5,6],[7,8,9]])\n",
        "t2=torch.tensor([[1,2,3],[4,5,6],[7,8,9]])\n",
        "torch.matmul(t1,t2)"
      ],
      "metadata": {
        "colab": {
          "base_uri": "https://localhost:8080/"
        },
        "id": "0S5jyBrrEDWw",
        "outputId": "64b726bc-7d3e-49a3-b1fd-e1923efe1f80"
      },
      "execution_count": null,
      "outputs": [
        {
          "output_type": "stream",
          "name": "stdout",
          "text": [
            "CPU times: user 1.48 ms, sys: 20 µs, total: 1.5 ms\n",
            "Wall time: 1.45 ms\n"
          ]
        },
        {
          "output_type": "execute_result",
          "data": {
            "text/plain": [
              "tensor([[ 30,  36,  42],\n",
              "        [ 66,  81,  96],\n",
              "        [102, 126, 150]])"
            ]
          },
          "metadata": {},
          "execution_count": 42
        }
      ]
    },
    {
      "cell_type": "markdown",
      "source": [
        "###Facts\n",
        "* @ operator can also be used\n",
        "* The same rules of matrix multiplication will also get applied\n",
        "* Compatible multiplcation : inner dimensions must be the same eg: (3,2) & (2,3) will work\n",
        "* Also the resulting matrix will be (3,3)"
      ],
      "metadata": {
        "id": "822MZlTUGwiu"
      }
    },
    {
      "cell_type": "code",
      "source": [
        "%%time\n",
        "t1@t2"
      ],
      "metadata": {
        "colab": {
          "base_uri": "https://localhost:8080/"
        },
        "id": "3g4CXR07GYDy",
        "outputId": "6b1a3247-791b-4c77-d3e2-692e5f091b16"
      },
      "execution_count": null,
      "outputs": [
        {
          "output_type": "stream",
          "name": "stdout",
          "text": [
            "CPU times: user 1.28 ms, sys: 19 µs, total: 1.3 ms\n",
            "Wall time: 1.22 ms\n"
          ]
        },
        {
          "output_type": "execute_result",
          "data": {
            "text/plain": [
              "tensor([[ 30,  36,  42],\n",
              "        [ 66,  81,  96],\n",
              "        [102, 126, 150]])"
            ]
          },
          "metadata": {},
          "execution_count": 43
        }
      ]
    },
    {
      "cell_type": "markdown",
      "source": [
        "##To fix tensor shape issues, we can use transpose\n",
        "* transpose switches the axes"
      ],
      "metadata": {
        "id": "wdq5XfgxJ8vv"
      }
    },
    {
      "cell_type": "code",
      "source": [
        " t1=torch.rand(size=(3,4))\n",
        " t2=torch.rand(size=(3,4))\n",
        " torch.matmul(t1,t2)"
      ],
      "metadata": {
        "colab": {
          "base_uri": "https://localhost:8080/",
          "height": 176
        },
        "id": "q0-86z0fKCof",
        "outputId": "f87503ff-c145-48c8-ac26-56a82b54e423"
      },
      "execution_count": null,
      "outputs": [
        {
          "output_type": "error",
          "ename": "RuntimeError",
          "evalue": "mat1 and mat2 shapes cannot be multiplied (3x4 and 3x4)",
          "traceback": [
            "\u001b[0;31m---------------------------------------------------------------------------\u001b[0m",
            "\u001b[0;31mRuntimeError\u001b[0m                              Traceback (most recent call last)",
            "\u001b[0;32m<ipython-input-44-e84f29d79353>\u001b[0m in \u001b[0;36m<cell line: 3>\u001b[0;34m()\u001b[0m\n\u001b[1;32m      1\u001b[0m \u001b[0mt1\u001b[0m\u001b[0;34m=\u001b[0m\u001b[0mtorch\u001b[0m\u001b[0;34m.\u001b[0m\u001b[0mrand\u001b[0m\u001b[0;34m(\u001b[0m\u001b[0msize\u001b[0m\u001b[0;34m=\u001b[0m\u001b[0;34m(\u001b[0m\u001b[0;36m3\u001b[0m\u001b[0;34m,\u001b[0m\u001b[0;36m4\u001b[0m\u001b[0;34m)\u001b[0m\u001b[0;34m)\u001b[0m\u001b[0;34m\u001b[0m\u001b[0;34m\u001b[0m\u001b[0m\n\u001b[1;32m      2\u001b[0m \u001b[0mt2\u001b[0m\u001b[0;34m=\u001b[0m\u001b[0mtorch\u001b[0m\u001b[0;34m.\u001b[0m\u001b[0mrand\u001b[0m\u001b[0;34m(\u001b[0m\u001b[0msize\u001b[0m\u001b[0;34m=\u001b[0m\u001b[0;34m(\u001b[0m\u001b[0;36m3\u001b[0m\u001b[0;34m,\u001b[0m\u001b[0;36m4\u001b[0m\u001b[0;34m)\u001b[0m\u001b[0;34m)\u001b[0m\u001b[0;34m\u001b[0m\u001b[0;34m\u001b[0m\u001b[0m\n\u001b[0;32m----> 3\u001b[0;31m \u001b[0mtorch\u001b[0m\u001b[0;34m.\u001b[0m\u001b[0mmatmul\u001b[0m\u001b[0;34m(\u001b[0m\u001b[0mt1\u001b[0m\u001b[0;34m,\u001b[0m\u001b[0mt2\u001b[0m\u001b[0;34m)\u001b[0m\u001b[0;34m\u001b[0m\u001b[0;34m\u001b[0m\u001b[0m\n\u001b[0m",
            "\u001b[0;31mRuntimeError\u001b[0m: mat1 and mat2 shapes cannot be multiplied (3x4 and 3x4)"
          ]
        }
      ]
    },
    {
      "cell_type": "code",
      "source": [
        "#using transpose to change the shape of t2\n",
        "torch.matmul(t1,t2.T)"
      ],
      "metadata": {
        "colab": {
          "base_uri": "https://localhost:8080/"
        },
        "id": "tJ-jCB-nLdPP",
        "outputId": "288ab230-df02-41e4-efee-296f6c8abebb"
      },
      "execution_count": null,
      "outputs": [
        {
          "output_type": "execute_result",
          "data": {
            "text/plain": [
              "tensor([[0.8519, 1.5641, 0.8335],\n",
              "        [1.2161, 1.3169, 1.1377],\n",
              "        [1.1432, 1.9284, 1.3323]])"
            ]
          },
          "metadata": {},
          "execution_count": 45
        }
      ]
    },
    {
      "cell_type": "markdown",
      "source": [
        "###Tensor Aggregation"
      ],
      "metadata": {
        "id": "H8Y0p6bDLqau"
      }
    },
    {
      "cell_type": "code",
      "source": [
        "x=torch.arange(0,100,10)"
      ],
      "metadata": {
        "id": "KgF4sqsoLtg3"
      },
      "execution_count": null,
      "outputs": []
    },
    {
      "cell_type": "code",
      "source": [
        "torch.min(x),torch.max(x),x.min(),x.max()"
      ],
      "metadata": {
        "colab": {
          "base_uri": "https://localhost:8080/"
        },
        "id": "yI183xuCNVan",
        "outputId": "47e9fb7f-b074-42d9-fcac-34866e36e187"
      },
      "execution_count": null,
      "outputs": [
        {
          "output_type": "execute_result",
          "data": {
            "text/plain": [
              "(tensor(0), tensor(90), tensor(0), tensor(90))"
            ]
          },
          "metadata": {},
          "execution_count": 52
        }
      ]
    },
    {
      "cell_type": "code",
      "source": [
        "torch.mean(x.type(torch.float32)),x.type(torch.float32).mean()"
      ],
      "metadata": {
        "colab": {
          "base_uri": "https://localhost:8080/"
        },
        "id": "ZnIDOcNrNiF3",
        "outputId": "53e5e47c-a96c-4977-ddd2-d6f3f0187465"
      },
      "execution_count": null,
      "outputs": [
        {
          "output_type": "execute_result",
          "data": {
            "text/plain": [
              "(tensor(45.), tensor(45.))"
            ]
          },
          "metadata": {},
          "execution_count": 53
        }
      ]
    },
    {
      "cell_type": "code",
      "source": [
        "torch.sum(x),x.sum()"
      ],
      "metadata": {
        "colab": {
          "base_uri": "https://localhost:8080/"
        },
        "id": "Dw37YcA-N0yE",
        "outputId": "cf42bbff-75d6-47c2-946a-8653876676ea"
      },
      "execution_count": null,
      "outputs": [
        {
          "output_type": "execute_result",
          "data": {
            "text/plain": [
              "(tensor(450), tensor(450))"
            ]
          },
          "metadata": {},
          "execution_count": 55
        }
      ]
    },
    {
      "cell_type": "markdown",
      "source": [
        "### Positional min and max"
      ],
      "metadata": {
        "id": "9u8cGyCgONZt"
      }
    },
    {
      "cell_type": "code",
      "source": [
        "x"
      ],
      "metadata": {
        "colab": {
          "base_uri": "https://localhost:8080/"
        },
        "id": "NCJnXowyOMSP",
        "outputId": "f8d0baad-9adb-4f0f-da10-2da4472b3513"
      },
      "execution_count": null,
      "outputs": [
        {
          "output_type": "execute_result",
          "data": {
            "text/plain": [
              "tensor([ 0, 10, 20, 30, 40, 50, 60, 70, 80, 90])"
            ]
          },
          "metadata": {},
          "execution_count": 56
        }
      ]
    },
    {
      "cell_type": "code",
      "source": [
        "x.argmin(),x.argmax()"
      ],
      "metadata": {
        "colab": {
          "base_uri": "https://localhost:8080/"
        },
        "id": "tFW7XjfoOipH",
        "outputId": "e64c2f80-b15e-4862-aaf2-757396bc14e3"
      },
      "execution_count": null,
      "outputs": [
        {
          "output_type": "execute_result",
          "data": {
            "text/plain": [
              "(tensor(0), tensor(9))"
            ]
          },
          "metadata": {},
          "execution_count": 57
        }
      ]
    },
    {
      "cell_type": "markdown",
      "source": [
        "### Operations\n",
        "* Reshape\n",
        "* View : In case of view, the `variable` storing the view will also have the same memory so the changes made to this variable will also get reflected in the original variable\n",
        "* Stack"
      ],
      "metadata": {
        "id": "q5JV6CJHS2aP"
      }
    },
    {
      "cell_type": "code",
      "source": [
        "tensor=torch.rand(100)\n",
        "tensor,tensor.shape"
      ],
      "metadata": {
        "colab": {
          "base_uri": "https://localhost:8080/"
        },
        "id": "St38utfOTde5",
        "outputId": "e57f0e23-5a37-4217-c71e-58032baeba33"
      },
      "execution_count": null,
      "outputs": [
        {
          "output_type": "execute_result",
          "data": {
            "text/plain": [
              "(tensor([0.3808, 0.3115, 0.8228, 0.7183, 0.1369, 0.1323, 0.7788, 0.1368, 0.7800,\n",
              "         0.3908, 0.0466, 0.3011, 0.7239, 0.6330, 0.5647, 0.8549, 0.1525, 0.0425,\n",
              "         0.3239, 0.3187, 0.4570, 0.3970, 0.3917, 0.1329, 0.1372, 0.3292, 0.7983,\n",
              "         0.1133, 0.8012, 0.7931, 0.5063, 0.3810, 0.7565, 0.4438, 0.1473, 0.2576,\n",
              "         0.6319, 0.6749, 0.6659, 0.9643, 0.8592, 0.6821, 0.8095, 0.2734, 0.5191,\n",
              "         0.0635, 0.6409, 0.6393, 0.8220, 0.5320, 0.3526, 0.4586, 0.8341, 0.7759,\n",
              "         0.1566, 0.6745, 0.6436, 0.5727, 0.7061, 0.1567, 0.7798, 0.1200, 0.5298,\n",
              "         0.7034, 0.0702, 0.4837, 0.7348, 0.7784, 0.4125, 0.9212, 0.2718, 0.4478,\n",
              "         0.9927, 0.3597, 0.1374, 0.8231, 0.4655, 0.5096, 0.1060, 0.4033, 0.3047,\n",
              "         0.3572, 0.5812, 0.1325, 0.0763, 0.9746, 0.3494, 0.1538, 0.7807, 0.4954,\n",
              "         0.2047, 0.6789, 0.9843, 0.8261, 0.5310, 0.8362, 0.8185, 0.6450, 0.8801,\n",
              "         0.8772]),\n",
              " torch.Size([100]))"
            ]
          },
          "metadata": {},
          "execution_count": 62
        }
      ]
    },
    {
      "cell_type": "code",
      "source": [
        "z=tensor.reshape(1,100)\n",
        "z,z.shape"
      ],
      "metadata": {
        "colab": {
          "base_uri": "https://localhost:8080/"
        },
        "id": "oQVC4qhnUJQm",
        "outputId": "f774cb69-c6da-458a-e4f3-328825b97132"
      },
      "execution_count": null,
      "outputs": [
        {
          "output_type": "execute_result",
          "data": {
            "text/plain": [
              "(tensor([[0.7107, 0.9675, 0.0380, 0.8073, 0.0662, 0.1962, 0.1584, 0.5500, 0.0050,\n",
              "          0.4121, 0.3911, 0.0634, 0.5410, 0.4191, 0.2614, 0.7627, 0.7843, 0.6388,\n",
              "          0.1268, 0.6632, 0.4143, 0.5403, 0.2447, 0.6421, 0.7984, 0.3333, 0.6822,\n",
              "          0.4176, 0.2602, 0.7557, 0.0761, 0.1367, 0.6574, 0.2307, 0.7813, 0.5192,\n",
              "          0.0310, 0.7384, 0.6301, 0.7189, 0.5917, 0.7118, 0.2543, 0.1997, 0.9681,\n",
              "          0.6121, 0.9701, 0.1724, 0.2499, 0.9035, 0.3986, 0.6930, 0.9479, 0.6736,\n",
              "          0.5986, 0.8222, 0.4103, 0.5373, 0.4875, 0.1341, 0.5075, 0.0863, 0.7698,\n",
              "          0.0319, 0.3559, 0.8929, 0.6408, 0.4093, 0.7793, 0.9699, 0.4334, 0.0957,\n",
              "          0.6005, 0.2951, 0.2953, 0.7896, 0.8109, 0.5925, 0.7355, 0.9276, 0.2850,\n",
              "          0.2748, 0.5060, 0.9319, 0.2332, 0.6782, 0.0660, 0.2637, 0.2639, 0.9093,\n",
              "          0.6895, 0.3741, 0.7240, 0.3557, 0.1694, 0.8036, 0.6406, 0.4557, 0.1483,\n",
              "          0.8291]]),\n",
              " torch.Size([1, 100]))"
            ]
          },
          "metadata": {},
          "execution_count": 61
        }
      ]
    },
    {
      "cell_type": "code",
      "source": [
        "w=tensor.view(10,10)\n",
        "w,w.shape"
      ],
      "metadata": {
        "colab": {
          "base_uri": "https://localhost:8080/"
        },
        "id": "ekRGXl22UXj4",
        "outputId": "76b236fe-5987-45e4-ad6e-ecfd1fd0f9e3"
      },
      "execution_count": null,
      "outputs": [
        {
          "output_type": "execute_result",
          "data": {
            "text/plain": [
              "(tensor([[0.3808, 0.3115, 0.8228, 0.7183, 0.1369, 0.1323, 0.7788, 0.1368, 0.7800,\n",
              "          0.3908],\n",
              "         [0.0466, 0.3011, 0.7239, 0.6330, 0.5647, 0.8549, 0.1525, 0.0425, 0.3239,\n",
              "          0.3187],\n",
              "         [0.4570, 0.3970, 0.3917, 0.1329, 0.1372, 0.3292, 0.7983, 0.1133, 0.8012,\n",
              "          0.7931],\n",
              "         [0.5063, 0.3810, 0.7565, 0.4438, 0.1473, 0.2576, 0.6319, 0.6749, 0.6659,\n",
              "          0.9643],\n",
              "         [0.8592, 0.6821, 0.8095, 0.2734, 0.5191, 0.0635, 0.6409, 0.6393, 0.8220,\n",
              "          0.5320],\n",
              "         [0.3526, 0.4586, 0.8341, 0.7759, 0.1566, 0.6745, 0.6436, 0.5727, 0.7061,\n",
              "          0.1567],\n",
              "         [0.7798, 0.1200, 0.5298, 0.7034, 0.0702, 0.4837, 0.7348, 0.7784, 0.4125,\n",
              "          0.9212],\n",
              "         [0.2718, 0.4478, 0.9927, 0.3597, 0.1374, 0.8231, 0.4655, 0.5096, 0.1060,\n",
              "          0.4033],\n",
              "         [0.3047, 0.3572, 0.5812, 0.1325, 0.0763, 0.9746, 0.3494, 0.1538, 0.7807,\n",
              "          0.4954],\n",
              "         [0.2047, 0.6789, 0.9843, 0.8261, 0.5310, 0.8362, 0.8185, 0.6450, 0.8801,\n",
              "          0.8772]]),\n",
              " torch.Size([10, 10]))"
            ]
          },
          "metadata": {},
          "execution_count": 63
        }
      ]
    },
    {
      "cell_type": "code",
      "source": [
        "tensor=tensor.reshape(10,10)\n",
        "tensor,tensor.shape"
      ],
      "metadata": {
        "colab": {
          "base_uri": "https://localhost:8080/"
        },
        "id": "aW2lTWCMUe8T",
        "outputId": "f013b9d4-c89b-4a13-adf9-e0a6424ea33c"
      },
      "execution_count": null,
      "outputs": [
        {
          "output_type": "execute_result",
          "data": {
            "text/plain": [
              "(tensor([[3.8084e-01, 1.0000e+03, 8.2279e-01, 7.1832e-01, 1.3687e-01, 1.3226e-01,\n",
              "          7.7881e-01, 1.3682e-01, 7.7998e-01, 3.9078e-01],\n",
              "         [4.6602e-02, 3.0107e-01, 7.2390e-01, 6.3304e-01, 5.6465e-01, 8.5491e-01,\n",
              "          1.5255e-01, 4.2458e-02, 3.2393e-01, 3.1868e-01],\n",
              "         [4.5704e-01, 3.9703e-01, 3.9169e-01, 1.3288e-01, 1.3718e-01, 3.2920e-01,\n",
              "          7.9835e-01, 1.1334e-01, 8.0122e-01, 7.9314e-01],\n",
              "         [5.0630e-01, 3.8101e-01, 7.5655e-01, 4.4379e-01, 1.4732e-01, 2.5760e-01,\n",
              "          6.3193e-01, 6.7495e-01, 6.6593e-01, 9.6429e-01],\n",
              "         [8.5917e-01, 6.8214e-01, 8.0948e-01, 2.7335e-01, 5.1911e-01, 6.3460e-02,\n",
              "          6.4087e-01, 6.3933e-01, 8.2205e-01, 5.3202e-01],\n",
              "         [3.5259e-01, 4.5857e-01, 8.3412e-01, 7.7590e-01, 1.5660e-01, 6.7446e-01,\n",
              "          6.4364e-01, 5.7269e-01, 7.0606e-01, 1.5669e-01],\n",
              "         [7.7977e-01, 1.2004e-01, 5.2979e-01, 7.0338e-01, 7.0167e-02, 4.8366e-01,\n",
              "          7.3484e-01, 7.7841e-01, 4.1249e-01, 9.2122e-01],\n",
              "         [2.7179e-01, 4.4784e-01, 9.9269e-01, 3.5968e-01, 1.3737e-01, 8.2310e-01,\n",
              "          4.6546e-01, 5.0964e-01, 1.0599e-01, 4.0327e-01],\n",
              "         [3.0470e-01, 3.5718e-01, 5.8119e-01, 1.3250e-01, 7.6277e-02, 9.7461e-01,\n",
              "          3.4943e-01, 1.5381e-01, 7.8073e-01, 4.9544e-01],\n",
              "         [2.0474e-01, 6.7895e-01, 9.8431e-01, 8.2610e-01, 5.3096e-01, 8.3620e-01,\n",
              "          8.1846e-01, 6.4502e-01, 8.8008e-01, 8.7718e-01]]),\n",
              " torch.Size([10, 10]))"
            ]
          },
          "metadata": {},
          "execution_count": 72
        }
      ]
    },
    {
      "cell_type": "code",
      "source": [
        "tensor=torch.arange(10)\n",
        "tensor,tensor.shape"
      ],
      "metadata": {
        "colab": {
          "base_uri": "https://localhost:8080/"
        },
        "id": "L6h4USpQYbIA",
        "outputId": "03a77ae0-bdc1-4e9b-d89d-c9a7794457df"
      },
      "execution_count": null,
      "outputs": [
        {
          "output_type": "execute_result",
          "data": {
            "text/plain": [
              "(tensor([0, 1, 2, 3, 4, 5, 6, 7, 8, 9]), torch.Size([10]))"
            ]
          },
          "metadata": {},
          "execution_count": 75
        }
      ]
    },
    {
      "cell_type": "code",
      "source": [
        "torch.stack([tensor,tensor],dim=0)"
      ],
      "metadata": {
        "colab": {
          "base_uri": "https://localhost:8080/"
        },
        "id": "cavAyr3LYXEg",
        "outputId": "6b9a78ba-91c0-4b04-8e50-e9b772728208"
      },
      "execution_count": null,
      "outputs": [
        {
          "output_type": "execute_result",
          "data": {
            "text/plain": [
              "tensor([[0, 1, 2, 3, 4, 5, 6, 7, 8, 9],\n",
              "        [0, 1, 2, 3, 4, 5, 6, 7, 8, 9]])"
            ]
          },
          "metadata": {},
          "execution_count": 76
        }
      ]
    },
    {
      "cell_type": "code",
      "source": [
        "torch.stack([tensor,tensor],dim=1)"
      ],
      "metadata": {
        "colab": {
          "base_uri": "https://localhost:8080/"
        },
        "id": "t3nxI4euYGR-",
        "outputId": "67aef264-3c2d-4627-f959-82fdf8b20f29"
      },
      "execution_count": null,
      "outputs": [
        {
          "output_type": "execute_result",
          "data": {
            "text/plain": [
              "tensor([[0, 0],\n",
              "        [1, 1],\n",
              "        [2, 2],\n",
              "        [3, 3],\n",
              "        [4, 4],\n",
              "        [5, 5],\n",
              "        [6, 6],\n",
              "        [7, 7],\n",
              "        [8, 8],\n",
              "        [9, 9]])"
            ]
          },
          "metadata": {},
          "execution_count": 77
        }
      ]
    },
    {
      "cell_type": "markdown",
      "source": [
        "###Facts\n",
        "* squeeze : removes the `1` dimension\n",
        "* unsqueeze : adds up the `1` dimension\n",
        "* permute : rearranges the dimensions"
      ],
      "metadata": {
        "id": "nYwNSGQFjMOn"
      }
    },
    {
      "cell_type": "code",
      "source": [
        "tensor=torch.rand(1,100)\n",
        "tensor,tensor.shape"
      ],
      "metadata": {
        "colab": {
          "base_uri": "https://localhost:8080/"
        },
        "id": "6PWLDAVXjeFp",
        "outputId": "14e1a15b-d037-4097-f458-0bde7ff6189f"
      },
      "execution_count": 78,
      "outputs": [
        {
          "output_type": "execute_result",
          "data": {
            "text/plain": [
              "(tensor([[0.9615, 0.3882, 0.0470, 0.6023, 0.3430, 0.6139, 0.3559, 0.6105, 0.0967,\n",
              "          0.9885, 0.2196, 0.7162, 0.2231, 0.6180, 0.7364, 0.4993, 0.5298, 0.3260,\n",
              "          0.0790, 0.2781, 0.5429, 0.8521, 0.7826, 0.6366, 0.4617, 0.2571, 0.0753,\n",
              "          0.7602, 0.3339, 0.5613, 0.2187, 0.4230, 0.8822, 0.9690, 0.6639, 0.3712,\n",
              "          0.0344, 0.1551, 0.2187, 0.2480, 0.4503, 0.0947, 0.4438, 0.0151, 0.8576,\n",
              "          0.8233, 0.9076, 0.7437, 0.1336, 0.9811, 0.1311, 0.6103, 0.1660, 0.3477,\n",
              "          0.6603, 0.7973, 0.6510, 0.6969, 0.0921, 0.6107, 0.0345, 0.9361, 0.1118,\n",
              "          0.7993, 0.3012, 0.0669, 0.2653, 0.9632, 0.6115, 0.2585, 0.6048, 0.4796,\n",
              "          0.0562, 0.8501, 0.7045, 0.0795, 0.8246, 0.3182, 0.3121, 0.7123, 0.1343,\n",
              "          0.5472, 0.0926, 0.9406, 0.2013, 0.9029, 0.3624, 0.7704, 0.6033, 0.7115,\n",
              "          0.4759, 0.1398, 0.8985, 0.1196, 0.3690, 0.9617, 0.7820, 0.8807, 0.9891,\n",
              "          0.4991]]),\n",
              " torch.Size([1, 100]))"
            ]
          },
          "metadata": {},
          "execution_count": 78
        }
      ]
    },
    {
      "cell_type": "code",
      "source": [
        "torch.squeeze(tensor)"
      ],
      "metadata": {
        "colab": {
          "base_uri": "https://localhost:8080/"
        },
        "id": "sFYAXrgJisO_",
        "outputId": "d8b2ecab-e6e8-4e70-afcf-feb0d63da4d9"
      },
      "execution_count": 79,
      "outputs": [
        {
          "output_type": "execute_result",
          "data": {
            "text/plain": [
              "tensor([0.9615, 0.3882, 0.0470, 0.6023, 0.3430, 0.6139, 0.3559, 0.6105, 0.0967,\n",
              "        0.9885, 0.2196, 0.7162, 0.2231, 0.6180, 0.7364, 0.4993, 0.5298, 0.3260,\n",
              "        0.0790, 0.2781, 0.5429, 0.8521, 0.7826, 0.6366, 0.4617, 0.2571, 0.0753,\n",
              "        0.7602, 0.3339, 0.5613, 0.2187, 0.4230, 0.8822, 0.9690, 0.6639, 0.3712,\n",
              "        0.0344, 0.1551, 0.2187, 0.2480, 0.4503, 0.0947, 0.4438, 0.0151, 0.8576,\n",
              "        0.8233, 0.9076, 0.7437, 0.1336, 0.9811, 0.1311, 0.6103, 0.1660, 0.3477,\n",
              "        0.6603, 0.7973, 0.6510, 0.6969, 0.0921, 0.6107, 0.0345, 0.9361, 0.1118,\n",
              "        0.7993, 0.3012, 0.0669, 0.2653, 0.9632, 0.6115, 0.2585, 0.6048, 0.4796,\n",
              "        0.0562, 0.8501, 0.7045, 0.0795, 0.8246, 0.3182, 0.3121, 0.7123, 0.1343,\n",
              "        0.5472, 0.0926, 0.9406, 0.2013, 0.9029, 0.3624, 0.7704, 0.6033, 0.7115,\n",
              "        0.4759, 0.1398, 0.8985, 0.1196, 0.3690, 0.9617, 0.7820, 0.8807, 0.9891,\n",
              "        0.4991])"
            ]
          },
          "metadata": {},
          "execution_count": 79
        }
      ]
    },
    {
      "cell_type": "code",
      "source": [
        "tensor=torch.arange(10)\n",
        "tensor,tensor.shape"
      ],
      "metadata": {
        "colab": {
          "base_uri": "https://localhost:8080/"
        },
        "id": "M45ZmHQHkXY3",
        "outputId": "4365ea7a-f5d9-427c-9160-613b0b75c2b5"
      },
      "execution_count": 84,
      "outputs": [
        {
          "output_type": "execute_result",
          "data": {
            "text/plain": [
              "(tensor([0, 1, 2, 3, 4, 5, 6, 7, 8, 9]), torch.Size([10]))"
            ]
          },
          "metadata": {},
          "execution_count": 84
        }
      ]
    },
    {
      "cell_type": "code",
      "source": [
        "torch.unsqueeze(tensor,0)"
      ],
      "metadata": {
        "colab": {
          "base_uri": "https://localhost:8080/"
        },
        "id": "VXx160sBjlrw",
        "outputId": "5a39ab7b-8bf1-4798-c0f5-34f1f6b7ec86"
      },
      "execution_count": 86,
      "outputs": [
        {
          "output_type": "execute_result",
          "data": {
            "text/plain": [
              "tensor([[0, 1, 2, 3, 4, 5, 6, 7, 8, 9]])"
            ]
          },
          "metadata": {},
          "execution_count": 86
        }
      ]
    },
    {
      "cell_type": "code",
      "source": [
        "tensor=tensor.reshape(1,10)\n",
        "tensor.permute(1,0)"
      ],
      "metadata": {
        "colab": {
          "base_uri": "https://localhost:8080/"
        },
        "id": "_hGU6t0OkfBu",
        "outputId": "cb760d88-93b8-497e-f463-d3fb335c4778"
      },
      "execution_count": 95,
      "outputs": [
        {
          "output_type": "execute_result",
          "data": {
            "text/plain": [
              "tensor([[0],\n",
              "        [1],\n",
              "        [2],\n",
              "        [3],\n",
              "        [4],\n",
              "        [5],\n",
              "        [6],\n",
              "        [7],\n",
              "        [8],\n",
              "        [9]])"
            ]
          },
          "metadata": {},
          "execution_count": 95
        }
      ]
    }
  ]
}